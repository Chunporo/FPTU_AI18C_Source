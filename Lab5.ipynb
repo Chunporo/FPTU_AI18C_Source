{
    "metadata": {
        "kernelspec": {
            "name": "SQL",
            "display_name": "SQL",
            "language": "sql"
        },
        "language_info": {
            "name": "sql",
            "version": ""
        }
    },
    "nbformat_minor": 2,
    "nbformat": 4,
    "cells": [
        {
            "cell_type": "code",
            "source": [
                "--1. Write function name: StudenID_ Func1 with parameter @mavt, return the sum of sl*giaban corresponding.\r\n",
                "DROP FUNCTION dbo.Student_Func1;\r\n",
                "IF EXISTS (SELECT * FROM sys.objects WHERE object_id = OBJECT_ID(N'dbo.Student_Func1') AND type in (N'FN', N'IF', N'TF', N'FS', N'FT')) \r\n",
                "    DROP FUNCTION [dbo].Student_Func1\r\n",
                "GO\r\n",
                "\r\n",
                "CREATE FUNCTION dbo.Student_Func1(@mavt NVARCHAR(5))\r\n",
                "RETURNS INT\r\n",
                "WITH RETURNS NULL ON NULL INPUT\r\n",
                "AS\r\n",
                "BEGIN\r\n",
                "    DECLARE @sum_vt INT;\r\n",
                "\r\n",
                "    SELECT @sum_vt = SUM(hd.SL * hd.GiaBan)\r\n",
                "    FROM [ABCCompany].[dbo].[CHITIETHOADON] hd\r\n",
                "    WHERE hd.MaVT = @mavt;   \r\n",
                "\r\n",
                "    RETURN @sum_vt;\r\n",
                "END\r\n",
                "GO\r\n",
                "\r\n",
                "-- Test the function\r\n",
                "PRINT dbo.Student_Func1(N'VT01');\r\n",
                ""
            ],
            "metadata": {
                "azdata_cell_guid": "eb604844-9caa-4615-b28d-604e5803e8fc",
                "language": "sql",
                "tags": []
            },
            "outputs": [
                {
                    "output_type": "display_data",
                    "data": {
                        "text/html": "Commands completed successfully."
                    },
                    "metadata": {}
                },
                {
                    "output_type": "display_data",
                    "data": {
                        "text/html": "Commands completed successfully."
                    },
                    "metadata": {}
                },
                {
                    "output_type": "display_data",
                    "data": {
                        "text/html": "7185000"
                    },
                    "metadata": {}
                },
                {
                    "output_type": "display_data",
                    "data": {
                        "text/html": "Total execution time: 00:00:00.015"
                    },
                    "metadata": {}
                }
            ],
            "execution_count": 20
        },
        {
            "cell_type": "code",
            "source": [
                "--2.Write  function to return a total of the HoaDon (@MahD is a parameter) \r\n",
                "IF EXISTS (SELECT * FROM sys.objects WHERE object_id = OBJECT_ID(N'dbo.Student_Func2') AND type in (N'FN', N'IF', N'TF', N'FS', N'FT')) \r\n",
                "    DROP FUNCTION [dbo].Student_Func2\r\n",
                "GO\r\n",
                "\r\n",
                "CREATE FUNCTION dbo.Student_Func2(@MaHD NVARCHAR(10))\r\n",
                "RETURNS INT\r\n",
                "WITH RETURNS NULL ON NULL INPUT\r\n",
                "AS\r\n",
                "BEGIN\r\n",
                "    DECLARE @sum_vt INT;\r\n",
                "\r\n",
                "    SELECT @sum_vt = SUM(hd.SL * hd.GiaBan)\r\n",
                "    FROM [ABCCompany].[dbo].[CHITIETHOADON] hd\r\n",
                "    WHERE hd.MaHD = @MaHD;   \r\n",
                "\r\n",
                "    RETURN @sum_vt;\r\n",
                "END\r\n",
                "GO\r\n",
                "\r\n",
                "-- Test the function\r\n",
                "PRINT dbo.Student_Func2(N'HD001');\r\n",
                ""
            ],
            "metadata": {
                "azdata_cell_guid": "682bd0f9-42c0-422f-bbdf-afcfa8b61bfa",
                "language": "sql"
            },
            "outputs": [
                {
                    "output_type": "display_data",
                    "data": {
                        "text/html": "Commands completed successfully."
                    },
                    "metadata": {}
                },
                {
                    "output_type": "display_data",
                    "data": {
                        "text/html": "Commands completed successfully."
                    },
                    "metadata": {}
                },
                {
                    "output_type": "display_data",
                    "data": {
                        "text/html": "560000"
                    },
                    "metadata": {}
                },
                {
                    "output_type": "display_data",
                    "data": {
                        "text/html": "Total execution time: 00:00:00.003"
                    },
                    "metadata": {}
                }
            ],
            "execution_count": 26
        },
        {
            "cell_type": "code",
            "source": [
                "--3. Write procedure name: StudenId _Proc1, parameter @makh, @diachi. This procedure help user update @diachi corresponding @makh.\r\n",
                "IF EXISTS (SELECT * FROM sys.objects WHERE object_id = OBJECT_ID(N'dbo.StudentId_Proc1') AND type in (N'P')) \r\n",
                "    DROP PROCEDURE [dbo].StudentId_Proc1\r\n",
                "GO\r\n",
                "CREATE PROCEDURE StudentId_Proc1\r\n",
                "    @makh NVARCHAR(5),\r\n",
                "    @diachi NVARCHAR(50)\r\n",
                "AS\r\n",
                "BEGIN\r\n",
                "    BEGIN TRY\r\n",
                "        UPDATE [ABCCompany].[dbo].[KHACHHANG]\r\n",
                "        SET diachi = @diachi\r\n",
                "        WHERE makh = @makh\r\n",
                "    END TRY\r\n",
                "    BEGIN CATCH\r\n",
                "        PRINT ERROR_MESSAGE()\r\n",
                "    END CATCH\r\n",
                "END\r\n",
                "--Test the function\r\n",
                "GO\r\n",
                "EXEC StudentId_Proc1 @makh = 'KH02', @diachi = 'QUY NHON'\r\n",
                "SELECT * FROM [ABCCompany].[dbo].[KHACHHANG]"
            ],
            "metadata": {
                "azdata_cell_guid": "04866bd6-7a08-4425-a291-392eb3a32398",
                "language": "sql",
                "tags": []
            },
            "outputs": [
                {
                    "output_type": "display_data",
                    "data": {
                        "text/html": "Commands completed successfully."
                    },
                    "metadata": {}
                },
                {
                    "output_type": "display_data",
                    "data": {
                        "text/html": "Commands completed successfully."
                    },
                    "metadata": {}
                },
                {
                    "output_type": "display_data",
                    "data": {
                        "text/html": "(1 row affected)"
                    },
                    "metadata": {}
                },
                {
                    "output_type": "display_data",
                    "data": {
                        "text/html": "(6 rows affected)"
                    },
                    "metadata": {}
                },
                {
                    "output_type": "display_data",
                    "data": {
                        "text/html": "Total execution time: 00:00:00.016"
                    },
                    "metadata": {}
                },
                {
                    "output_type": "execute_result",
                    "metadata": {},
                    "execution_count": 44,
                    "data": {
                        "application/vnd.dataresource+json": {
                            "schema": {
                                "fields": [
                                    {
                                        "name": "MaKH"
                                    },
                                    {
                                        "name": "TenKH"
                                    },
                                    {
                                        "name": "DiaChi"
                                    },
                                    {
                                        "name": "DT"
                                    },
                                    {
                                        "name": "Email"
                                    }
                                ]
                            },
                            "data": [
                                {
                                    "MaKH": "KH01",
                                    "TenKH": "NGUYEN THI BE",
                                    "DiaChi": "QUAN 8",
                                    "DT": "8457895",
                                    "Email": "bnt@yahoo.com"
                                },
                                {
                                    "MaKH": "KH02",
                                    "TenKH": "LE HOANG NAM",
                                    "DiaChi": "QUY NHON",
                                    "DT": "9878987",
                                    "Email": "namlehoang @abc.com.vn"
                                },
                                {
                                    "MaKH": "KH03",
                                    "TenKH": "TRAN THI CHIEU",
                                    "DiaChi": "TAN BINH",
                                    "DT": "8457895",
                                    "Email": "NULL"
                                },
                                {
                                    "MaKH": "KH04",
                                    "TenKH": "MAI THI QUE ANH",
                                    "DiaChi": "BINH CHANH\t",
                                    "DT": "NULL",
                                    "Email": "NULL"
                                },
                                {
                                    "MaKH": "KH05",
                                    "TenKH": "LE VAN SANG",
                                    "DiaChi": "QUAN 10",
                                    "DT": "NULL",
                                    "Email": "sanglv@hcm.vnn.vn"
                                },
                                {
                                    "MaKH": "KH06",
                                    "TenKH": "TRAN HOANG KHAI",
                                    "DiaChi": "TAN BINH",
                                    "DT": "8457897",
                                    "Email": "NULL"
                                }
                            ]
                        },
                        "text/html": [
                            "<table>",
                            "<tr><th>MaKH</th><th>TenKH</th><th>DiaChi</th><th>DT</th><th>Email</th></tr>",
                            "<tr><td>KH01</td><td>NGUYEN THI BE</td><td>QUAN 8</td><td>8457895</td><td>bnt@yahoo.com</td></tr>",
                            "<tr><td>KH02</td><td>LE HOANG NAM</td><td>QUY NHON</td><td>9878987</td><td>namlehoang @abc.com.vn</td></tr>",
                            "<tr><td>KH03</td><td>TRAN THI CHIEU</td><td>TAN BINH</td><td>8457895</td><td>NULL</td></tr>",
                            "<tr><td>KH04</td><td>MAI THI QUE ANH</td><td>BINH CHANH\t</td><td>NULL</td><td>NULL</td></tr>",
                            "<tr><td>KH05</td><td>LE VAN SANG</td><td>QUAN 10</td><td>NULL</td><td>sanglv@hcm.vnn.vn</td></tr>",
                            "<tr><td>KH06</td><td>TRAN HOANG KHAI</td><td>TAN BINH</td><td>8457897</td><td>NULL</td></tr>",
                            "</table>"
                        ]
                    }
                }
            ],
            "execution_count": 44
        },
        {
            "cell_type": "code",
            "source": [
                "--4.Write a procedure to add an item into HOADON\r\n",
                "IF EXISTS (SELECT * FROM sys.objects WHERE object_id = OBJECT_ID(N'dbo.StudentId_Proc2') AND type in (N'P')) \r\n",
                "    DROP PROCEDURE [dbo].StudentId_Proc2\r\n",
                "GO\r\n",
                "CREATE PROCEDURE StudentId_Proc2\r\n",
                "    @MaHD NVARCHAR(10),\r\n",
                "    @Ngay DATETIME,\r\n",
                "    @MaKh NVARCHAR(5),\r\n",
                "    @TongTG INT\r\n",
                "AS\r\n",
                "BEGIN\r\n",
                "    BEGIN TRY\r\n",
                "        INSERT INTO [ABCCompany].[dbo].[HOADON] (MaHD, Ngay, MaKH, TongTG)\r\n",
                "        VALUES (@MaHD, @Ngay, @MaKh, @TongTG)\r\n",
                "    END TRY\r\n",
                "    BEGIN CATCH\r\n",
                "        PRINT ERROR_MESSAGE()\r\n",
                "    END CATCH\r\n",
                "END\r\n",
                "--Test the function\r\n",
                "GO\r\n",
                "EXEC StudentId_Proc2 @MaHD = 'HD02', @Ngay = '2023-05-12 00:00:00.000', @makh = 'KH02', @TongTG = NULL\r\n",
                "SELECT * FROM [ABCCompany].[dbo].[HOADON]"
            ],
            "metadata": {
                "azdata_cell_guid": "b5caae4b-c155-4593-935d-75b2fdd7b8b3",
                "language": "sql",
                "tags": []
            },
            "outputs": [
                {
                    "output_type": "display_data",
                    "data": {
                        "text/html": "Commands completed successfully."
                    },
                    "metadata": {}
                },
                {
                    "output_type": "display_data",
                    "data": {
                        "text/html": "Commands completed successfully."
                    },
                    "metadata": {}
                },
                {
                    "output_type": "display_data",
                    "data": {
                        "text/html": "(1 row affected)"
                    },
                    "metadata": {}
                },
                {
                    "output_type": "display_data",
                    "data": {
                        "text/html": "(11 rows affected)"
                    },
                    "metadata": {}
                },
                {
                    "output_type": "display_data",
                    "data": {
                        "text/html": "Total execution time: 00:00:00.037"
                    },
                    "metadata": {}
                },
                {
                    "output_type": "execute_result",
                    "metadata": {},
                    "execution_count": 47,
                    "data": {
                        "application/vnd.dataresource+json": {
                            "schema": {
                                "fields": [
                                    {
                                        "name": "MaHD"
                                    },
                                    {
                                        "name": "Ngay"
                                    },
                                    {
                                        "name": "MaKH"
                                    },
                                    {
                                        "name": "TongTG"
                                    }
                                ]
                            },
                            "data": [
                                {
                                    "MaHD": "HD001",
                                    "Ngay": "2000-05-12 00:00:00.000",
                                    "MaKH": "KH01",
                                    "TongTG": "NULL"
                                },
                                {
                                    "MaHD": "HD002",
                                    "Ngay": "2000-05-25 00:00:00.000",
                                    "MaKH": "KH02",
                                    "TongTG": "NULL"
                                },
                                {
                                    "MaHD": "HD003",
                                    "Ngay": "2000-05-25 00:00:00.000",
                                    "MaKH": "KH01",
                                    "TongTG": "NULL"
                                },
                                {
                                    "MaHD": "HD004",
                                    "Ngay": "2000-05-25 00:00:00.000",
                                    "MaKH": "KH04",
                                    "TongTG": "NULL"
                                },
                                {
                                    "MaHD": "HD005",
                                    "Ngay": "2000-05-26 00:00:00.000",
                                    "MaKH": "KH04",
                                    "TongTG": "NULL"
                                },
                                {
                                    "MaHD": "HD006",
                                    "Ngay": "2000-05-02 00:00:00.000",
                                    "MaKH": "KH03",
                                    "TongTG": "NULL"
                                },
                                {
                                    "MaHD": "HD007",
                                    "Ngay": "2000-06-22 00:00:00.000",
                                    "MaKH": "KH04",
                                    "TongTG": "NULL"
                                },
                                {
                                    "MaHD": "HD008",
                                    "Ngay": "2000-06-25 00:00:00.000",
                                    "MaKH": "KH03",
                                    "TongTG": "NULL"
                                },
                                {
                                    "MaHD": "HD009",
                                    "Ngay": "2000-08-15 00:00:00.000",
                                    "MaKH": "KH04",
                                    "TongTG": "NULL"
                                },
                                {
                                    "MaHD": "HD010",
                                    "Ngay": "2000-08-30 00:00:00.000",
                                    "MaKH": "KH01",
                                    "TongTG": "NULL"
                                },
                                {
                                    "MaHD": "HD02",
                                    "Ngay": "2023-05-12 00:00:00.000",
                                    "MaKH": "KH02",
                                    "TongTG": "NULL"
                                }
                            ]
                        },
                        "text/html": [
                            "<table>",
                            "<tr><th>MaHD</th><th>Ngay</th><th>MaKH</th><th>TongTG</th></tr>",
                            "<tr><td>HD001</td><td>2000-05-12 00:00:00.000</td><td>KH01</td><td>NULL</td></tr>",
                            "<tr><td>HD002</td><td>2000-05-25 00:00:00.000</td><td>KH02</td><td>NULL</td></tr>",
                            "<tr><td>HD003</td><td>2000-05-25 00:00:00.000</td><td>KH01</td><td>NULL</td></tr>",
                            "<tr><td>HD004</td><td>2000-05-25 00:00:00.000</td><td>KH04</td><td>NULL</td></tr>",
                            "<tr><td>HD005</td><td>2000-05-26 00:00:00.000</td><td>KH04</td><td>NULL</td></tr>",
                            "<tr><td>HD006</td><td>2000-05-02 00:00:00.000</td><td>KH03</td><td>NULL</td></tr>",
                            "<tr><td>HD007</td><td>2000-06-22 00:00:00.000</td><td>KH04</td><td>NULL</td></tr>",
                            "<tr><td>HD008</td><td>2000-06-25 00:00:00.000</td><td>KH03</td><td>NULL</td></tr>",
                            "<tr><td>HD009</td><td>2000-08-15 00:00:00.000</td><td>KH04</td><td>NULL</td></tr>",
                            "<tr><td>HD010</td><td>2000-08-30 00:00:00.000</td><td>KH01</td><td>NULL</td></tr>",
                            "<tr><td>HD02</td><td>2023-05-12 00:00:00.000</td><td>KH02</td><td>NULL</td></tr>",
                            "</table>"
                        ]
                    }
                }
            ],
            "execution_count": 47
        },
        {
            "cell_type": "code",
            "source": [
                "--5.Write trigger name: StudenId_Trigger on table Chitiethoadon, when user insert data into Chitiethoadon, the trigger will update the Tongtien in HoaDon(student should add Tongtien column into Hoadon, tongtien=sum(sl*giaban).\r\n",
                "IF COL_LENGTH('ABCCompany.dbo.HOADON','TongTien') IS NULL\r\n",
                "BEGIN\r\n",
                "    ALTER TABLE [ABCCompany].[dbo].[HOADON]\r\n",
                "    ADD TongTien DECIMAL(18, 2) NULL\r\n",
                "END\r\n",
                "GO\r\n",
                "\r\n",
                "IF OBJECT_ID('dbo.StudentId_Trigger','TR') IS NOT NULL\r\n",
                "    DROP TRIGGER dbo.StudentId_Trigger;\r\n",
                "GO\r\n",
                "\r\n",
                "CREATE TRIGGER StudentId_Trigger\r\n",
                "ON [ABCCompany].[dbo].[CHITIETHOADON]\r\n",
                "AFTER INSERT\r\n",
                "AS \r\n",
                "BEGIN\r\n",
                "    UPDATE [ABCCompany].[dbo].[HOADON]\r\n",
                "    SET TongTien = (\r\n",
                "        SELECT SUM(SL * GiaBan)\r\n",
                "        FROM [ABCCompany].[dbo].[CHITIETHOADON] CTHD\r\n",
                "        WHERE CTHD.MaHD = [ABCCompany].[dbo].[HOADON].MaHD)\r\n",
                "    FROM [ABCCompany].[dbo].[HOADON]\r\n",
                "    INNER JOIN inserted ON [ABCCompany].[dbo].[HOADON].MaHD = inserted.MaHD;\r\n",
                "END\r\n",
                "\r\n",
                ""
            ],
            "metadata": {
                "azdata_cell_guid": "fa02cf04-eb32-4c6c-97b7-0bf970e1f366",
                "language": "sql",
                "tags": []
            },
            "outputs": [
                {
                    "output_type": "display_data",
                    "data": {
                        "text/html": "Commands completed successfully."
                    },
                    "metadata": {}
                },
                {
                    "output_type": "display_data",
                    "data": {
                        "text/html": "Commands completed successfully."
                    },
                    "metadata": {}
                },
                {
                    "output_type": "display_data",
                    "data": {
                        "text/html": "Commands completed successfully."
                    },
                    "metadata": {}
                },
                {
                    "output_type": "display_data",
                    "data": {
                        "text/html": "Total execution time: 00:00:00.003"
                    },
                    "metadata": {}
                }
            ],
            "execution_count": 65
        },
        {
            "cell_type": "code",
            "source": [
                "INSERT INTO [ABCCompany].[dbo].[CHITIETHOADON] (MaHD, MaVT, SL, KhuyenMai, GiaBan)\r\n",
                "VALUES \r\n",
                "    ('HD001', 'VT06', 10, 0, 500),  \r\n",
                "    ('HD002', 'VT06', 5, 10, 700),   \r\n",
                "    ('HD003', 'VT06', 8, 5, 600);     \r\n",
                ""
            ],
            "metadata": {
                "azdata_cell_guid": "873b99e3-bda9-4805-a07e-7d431c0da09b",
                "language": "sql",
                "tags": []
            },
            "outputs": [],
            "execution_count": null
        },
        {
            "cell_type": "code",
            "source": [
                "SELECT * FROM HOADON"
            ],
            "metadata": {
                "azdata_cell_guid": "7d928962-cb33-41f6-a67e-6fdbfdf992a6",
                "language": "sql"
            },
            "outputs": [
                {
                    "output_type": "display_data",
                    "data": {
                        "text/html": "(11 rows affected)"
                    },
                    "metadata": {}
                },
                {
                    "output_type": "display_data",
                    "data": {
                        "text/html": "Total execution time: 00:00:00.011"
                    },
                    "metadata": {}
                },
                {
                    "output_type": "execute_result",
                    "metadata": {},
                    "execution_count": 71,
                    "data": {
                        "application/vnd.dataresource+json": {
                            "schema": {
                                "fields": [
                                    {
                                        "name": "MaHD"
                                    },
                                    {
                                        "name": "Ngay"
                                    },
                                    {
                                        "name": "MaKH"
                                    },
                                    {
                                        "name": "TongTG"
                                    },
                                    {
                                        "name": "TongTien"
                                    }
                                ]
                            },
                            "data": [
                                {
                                    "MaHD": "HD001",
                                    "Ngay": "2000-05-12 00:00:00.000",
                                    "MaKH": "KH01",
                                    "TongTG": "NULL",
                                    "TongTien": "565000.00"
                                },
                                {
                                    "MaHD": "HD002",
                                    "Ngay": "2000-05-25 00:00:00.000",
                                    "MaKH": "KH02",
                                    "TongTG": "NULL",
                                    "TongTien": "1503500.00"
                                },
                                {
                                    "MaHD": "HD003",
                                    "Ngay": "2000-05-25 00:00:00.000",
                                    "MaKH": "KH01",
                                    "TongTG": "NULL",
                                    "TongTien": "1104800.00"
                                },
                                {
                                    "MaHD": "HD004",
                                    "Ngay": "2000-05-25 00:00:00.000",
                                    "MaKH": "KH04",
                                    "TongTG": "NULL",
                                    "TongTien": "NULL"
                                },
                                {
                                    "MaHD": "HD005",
                                    "Ngay": "2000-05-26 00:00:00.000",
                                    "MaKH": "KH04",
                                    "TongTG": "NULL",
                                    "TongTien": "NULL"
                                },
                                {
                                    "MaHD": "HD006",
                                    "Ngay": "2000-05-02 00:00:00.000",
                                    "MaKH": "KH03",
                                    "TongTG": "NULL",
                                    "TongTien": "NULL"
                                },
                                {
                                    "MaHD": "HD007",
                                    "Ngay": "2000-06-22 00:00:00.000",
                                    "MaKH": "KH04",
                                    "TongTG": "NULL",
                                    "TongTien": "NULL"
                                },
                                {
                                    "MaHD": "HD008",
                                    "Ngay": "2000-06-25 00:00:00.000",
                                    "MaKH": "KH03",
                                    "TongTG": "NULL",
                                    "TongTien": "NULL"
                                },
                                {
                                    "MaHD": "HD009",
                                    "Ngay": "2000-08-15 00:00:00.000",
                                    "MaKH": "KH04",
                                    "TongTG": "NULL",
                                    "TongTien": "NULL"
                                },
                                {
                                    "MaHD": "HD010",
                                    "Ngay": "2000-08-30 00:00:00.000",
                                    "MaKH": "KH01",
                                    "TongTG": "NULL",
                                    "TongTien": "NULL"
                                },
                                {
                                    "MaHD": "HD02",
                                    "Ngay": "2023-05-12 00:00:00.000",
                                    "MaKH": "KH02",
                                    "TongTG": "NULL",
                                    "TongTien": "NULL"
                                }
                            ]
                        },
                        "text/html": [
                            "<table>",
                            "<tr><th>MaHD</th><th>Ngay</th><th>MaKH</th><th>TongTG</th><th>TongTien</th></tr>",
                            "<tr><td>HD001</td><td>2000-05-12 00:00:00.000</td><td>KH01</td><td>NULL</td><td>565000.00</td></tr>",
                            "<tr><td>HD002</td><td>2000-05-25 00:00:00.000</td><td>KH02</td><td>NULL</td><td>1503500.00</td></tr>",
                            "<tr><td>HD003</td><td>2000-05-25 00:00:00.000</td><td>KH01</td><td>NULL</td><td>1104800.00</td></tr>",
                            "<tr><td>HD004</td><td>2000-05-25 00:00:00.000</td><td>KH04</td><td>NULL</td><td>NULL</td></tr>",
                            "<tr><td>HD005</td><td>2000-05-26 00:00:00.000</td><td>KH04</td><td>NULL</td><td>NULL</td></tr>",
                            "<tr><td>HD006</td><td>2000-05-02 00:00:00.000</td><td>KH03</td><td>NULL</td><td>NULL</td></tr>",
                            "<tr><td>HD007</td><td>2000-06-22 00:00:00.000</td><td>KH04</td><td>NULL</td><td>NULL</td></tr>",
                            "<tr><td>HD008</td><td>2000-06-25 00:00:00.000</td><td>KH03</td><td>NULL</td><td>NULL</td></tr>",
                            "<tr><td>HD009</td><td>2000-08-15 00:00:00.000</td><td>KH04</td><td>NULL</td><td>NULL</td></tr>",
                            "<tr><td>HD010</td><td>2000-08-30 00:00:00.000</td><td>KH01</td><td>NULL</td><td>NULL</td></tr>",
                            "<tr><td>HD02</td><td>2023-05-12 00:00:00.000</td><td>KH02</td><td>NULL</td><td>NULL</td></tr>",
                            "</table>"
                        ]
                    }
                }
            ],
            "execution_count": 71
        },
        {
            "cell_type": "code",
            "source": [
                "--6.Write view name: StudentID_View1 to extract list of customers who bought ‘Gach Ong’\r\n",
                "IF EXISTS(select * FROM sys.views where name = 'StudentID_View1')\r\n",
                "    DROP VIEW StudentID_View1\r\n",
                "GO\r\n",
                "\r\n",
                "CREATE VIEW StudentID_View1 AS\r\n",
                "SELECT DISTINCT KH.*\r\n",
                "FROM [ABCCompany].[dbo].[CHITIETHOADON] CTHD\r\n",
                "INNER JOIN [ABCCompany].[dbo].[HOADON] HD ON CTHD.MaHD = HD.MaHD\r\n",
                "INNER JOIN [ABCCompany].[dbo].[KHACHHANG] KH ON HD.MaKH = KH.MaKH\r\n",
                "INNER JOIN [ABCCompany].[dbo].[VATTU] VT ON VT.MaVT = CTHD.MaVT\r\n",
                "WHERE VT.TenVT = N'Gach Ong'\r\n",
                "GO\r\n",
                "\r\n",
                "SELECT * FROM StudentID_View1"
            ],
            "metadata": {
                "azdata_cell_guid": "33e438ef-e38f-4822-a283-e21e1d2df4c0",
                "language": "sql"
            },
            "outputs": [
                {
                    "output_type": "display_data",
                    "data": {
                        "text/html": "Commands completed successfully."
                    },
                    "metadata": {}
                },
                {
                    "output_type": "display_data",
                    "data": {
                        "text/html": "Commands completed successfully."
                    },
                    "metadata": {}
                },
                {
                    "output_type": "display_data",
                    "data": {
                        "text/html": "(2 rows affected)"
                    },
                    "metadata": {}
                },
                {
                    "output_type": "display_data",
                    "data": {
                        "text/html": "Total execution time: 00:00:00.033"
                    },
                    "metadata": {}
                },
                {
                    "output_type": "execute_result",
                    "metadata": {},
                    "execution_count": 74,
                    "data": {
                        "application/vnd.dataresource+json": {
                            "schema": {
                                "fields": [
                                    {
                                        "name": "MaKH"
                                    },
                                    {
                                        "name": "TenKH"
                                    },
                                    {
                                        "name": "DiaChi"
                                    },
                                    {
                                        "name": "DT"
                                    },
                                    {
                                        "name": "Email"
                                    }
                                ]
                            },
                            "data": [
                                {
                                    "MaKH": "KH02",
                                    "TenKH": "LE HOANG NAM",
                                    "DiaChi": "QUY NHON",
                                    "DT": "9878987",
                                    "Email": "namlehoang @abc.com.vn"
                                },
                                {
                                    "MaKH": "KH04",
                                    "TenKH": "MAI THI QUE ANH",
                                    "DiaChi": "BINH CHANH\t",
                                    "DT": "NULL",
                                    "Email": "NULL"
                                }
                            ]
                        },
                        "text/html": [
                            "<table>",
                            "<tr><th>MaKH</th><th>TenKH</th><th>DiaChi</th><th>DT</th><th>Email</th></tr>",
                            "<tr><td>KH02</td><td>LE HOANG NAM</td><td>QUY NHON</td><td>9878987</td><td>namlehoang @abc.com.vn</td></tr>",
                            "<tr><td>KH04</td><td>MAI THI QUE ANH</td><td>BINH CHANH\t</td><td>NULL</td><td>NULL</td></tr>",
                            "</table>"
                        ]
                    }
                }
            ],
            "execution_count": 74
        }
    ]
}
