{
    "metadata": {
        "kernelspec": {
            "name": "SQL",
            "display_name": "SQL",
            "language": "sql"
        },
        "language_info": {
            "name": "sql",
            "version": ""
        }
    },
    "nbformat_minor": 2,
    "nbformat": 4,
    "cells": [
        {
            "cell_type": "code",
            "source": [
                "-- _1._Cho biết ai đang quản lý phòng ban có tên: Phòng Nghiên cứu và phát triển. Thông tin yêu cầu: mã số,họ tên nhân viên, mã số phòng ban, tên phòng ban_\r\n",
                "select E.empSSN, E.empName, D.depNum, D.depName\r\n",
                "from [FUH_COMPANY].[dbo].[tblEmployee] E\r\n",
                "JOIN [FUH_COMPANY].[dbo].[tblDepartment] D \r\n",
                "ON E.depNum = D.depNum\r\n",
                "WHERE D.depName = N'Phòng Nghiên cứu và phát triển' AND E.empSSN = D.mgrSSN;"
            ],
            "metadata": {
                "azdata_cell_guid": "cc98b059-ce03-4f19-9fe4-77aca7ce8619",
                "language": "sql",
                "tags": []
            },
            "outputs": [
                {
                    "output_type": "display_data",
                    "data": {
                        "text/html": "(1 row affected)"
                    },
                    "metadata": {}
                },
                {
                    "output_type": "display_data",
                    "data": {
                        "text/html": "Total execution time: 00:00:00.061"
                    },
                    "metadata": {}
                },
                {
                    "output_type": "execute_result",
                    "execution_count": 1,
                    "data": {
                        "application/vnd.dataresource+json": {
                            "schema": {
                                "fields": [
                                    {
                                        "name": "empSSN"
                                    },
                                    {
                                        "name": "empName"
                                    },
                                    {
                                        "name": "depNum"
                                    },
                                    {
                                        "name": "depName"
                                    }
                                ]
                            },
                            "data": [
                                {
                                    "empSSN": "30121050184",
                                    "empName": "Nguyễn Thị Minh Hưng",
                                    "depNum": "5",
                                    "depName": "Phòng Nghiên cứu và phát triển"
                                }
                            ]
                        },
                        "text/html": "<table><tr><th>empSSN</th><th>empName</th><th>depNum</th><th>depName</th></tr><tr><td>30121050184</td><td>Nguyễn Thị Minh Hưng</td><td>5</td><td>Phòng Nghiên cứu và phát triển</td></tr></table>"
                    },
                    "metadata": {}
                }
            ],
            "execution_count": 1
        },
        {
            "cell_type": "code",
            "source": [
                "--_2._       _Cho phòng ban có tên: Phòng Nghiên cứu và phát triển hiện đang quản lý dự án nào. Thông tin yêu cầu: mã số dụ án, tên dự án, tên phòng ban quản lý_\r\n",
                "select P.proNum,P.proName, D.depName \r\n",
                "from [FUH_COMPANY].[dbo].[tblProject] P\r\n",
                "JOIN [FUH_COMPANY].[dbo].[tblDepartment] D\r\n",
                "ON P.depNum = D.depNum\r\n",
                "WHERE D.depName = N'Phòng Nghiên cứu và phát triển';"
            ],
            "metadata": {
                "language": "sql",
                "azdata_cell_guid": "ba739c78-219a-4174-abf3-d8c7327ea0d8",
                "tags": []
            },
            "outputs": [
                {
                    "output_type": "display_data",
                    "data": {
                        "text/html": "(0 rows affected)"
                    },
                    "metadata": {}
                },
                {
                    "output_type": "display_data",
                    "data": {
                        "text/html": "Total execution time: 00:00:00.004"
                    },
                    "metadata": {}
                },
                {
                    "output_type": "execute_result",
                    "execution_count": 2,
                    "data": {
                        "application/vnd.dataresource+json": {
                            "schema": {
                                "fields": [
                                    {
                                        "name": "proNum"
                                    },
                                    {
                                        "name": "proName"
                                    },
                                    {
                                        "name": "depName"
                                    }
                                ]
                            },
                            "data": []
                        },
                        "text/html": "<table><tr><th>proNum</th><th>proName</th><th>depName</th></tr></table>"
                    },
                    "metadata": {}
                }
            ],
            "execution_count": 2
        },
        {
            "cell_type": "code",
            "source": [
                "--3._       _Cho biết dự án có tên ProjectB hiện đang được quản lý bởi phòng ban nào. Thông tin yêu cầu: mã số dụ án, tên dự án, tên phòng ban quản lý\r\n",
                "select P.proNum,P.proName, D.depName \r\n",
                "from [FUH_COMPANY].[dbo].[tblProject] P\r\n",
                "JOIN [FUH_COMPANY].[dbo].[tblDepartment] D\r\n",
                "ON P.depNum = D.depNum\r\n",
                "WHERE P.proName = 'ProjectB';"
            ],
            "metadata": {
                "azdata_cell_guid": "00bafc50-de73-4d72-9f9d-98f4beb6a78b",
                "language": "sql",
                "tags": []
            },
            "outputs": [
                {
                    "output_type": "display_data",
                    "data": {
                        "text/html": "(1 row affected)"
                    },
                    "metadata": {}
                },
                {
                    "output_type": "display_data",
                    "data": {
                        "text/html": "Total execution time: 00:00:00.011"
                    },
                    "metadata": {}
                },
                {
                    "output_type": "execute_result",
                    "execution_count": 3,
                    "data": {
                        "application/vnd.dataresource+json": {
                            "schema": {
                                "fields": [
                                    {
                                        "name": "proNum"
                                    },
                                    {
                                        "name": "proName"
                                    },
                                    {
                                        "name": "depName"
                                    }
                                ]
                            },
                            "data": [
                                {
                                    "proNum": "2",
                                    "proName": "ProjectB",
                                    "depName": "Phòng Phần mềm nước ngoài"
                                }
                            ]
                        },
                        "text/html": "<table><tr><th>proNum</th><th>proName</th><th>depName</th></tr><tr><td>2</td><td>ProjectB</td><td>Phòng Phần mềm nước ngoài</td></tr></table>"
                    },
                    "metadata": {}
                }
            ],
            "execution_count": 3
        },
        {
            "cell_type": "code",
            "source": [
                "--4.Cho biết những nhân viên nào đang bị giám sát bởi nhân viên có tên Mai Duy An. Thông tin yêu cầu: mã số nhân viên, họ tên nhân viên_\r\n",
                "select E.empSSN, E.empName\r\n",
                "from [FUH_COMPANY].[dbo].[tblEmployee] E\r\n",
                "JOIN [FUH_COMPANY].[dbo].[tblEmployee] M\r\n",
                "ON E.supervisorSSN = M.empSSN\r\n",
                "WHERE M.empName = 'Mai Duy An'"
            ],
            "metadata": {
                "azdata_cell_guid": "a1b00f5e-4731-459c-a394-11c5e25189c2",
                "language": "sql",
                "tags": []
            },
            "outputs": [
                {
                    "output_type": "display_data",
                    "data": {
                        "text/html": "(2 rows affected)"
                    },
                    "metadata": {}
                },
                {
                    "output_type": "display_data",
                    "data": {
                        "text/html": "Total execution time: 00:00:00.010"
                    },
                    "metadata": {}
                },
                {
                    "output_type": "execute_result",
                    "execution_count": 4,
                    "data": {
                        "application/vnd.dataresource+json": {
                            "schema": {
                                "fields": [
                                    {
                                        "name": "empSSN"
                                    },
                                    {
                                        "name": "empName"
                                    }
                                ]
                            },
                            "data": [
                                {
                                    "empSSN": "30121050015",
                                    "empName": "Huỳnh Mai Anh"
                                },
                                {
                                    "empSSN": "30121050027",
                                    "empName": "Nguyễn Thúy Quỳnh Anh"
                                }
                            ]
                        },
                        "text/html": "<table><tr><th>empSSN</th><th>empName</th></tr><tr><td>30121050015</td><td>Huỳnh Mai Anh</td></tr><tr><td>30121050027</td><td>Nguyễn Thúy Quỳnh Anh</td></tr></table>"
                    },
                    "metadata": {}
                }
            ],
            "execution_count": 4
        },
        {
            "cell_type": "code",
            "source": [
                "--5.Cho biết ai hiện đang giám sát những nhân viên có tên Mai Duy An. Thông tin yêu cầu: mã số nhân viên, họ tên nhân viên giám sát.\r\n",
                "select M.empSSN, M.empName\r\n",
                "from [FUH_COMPANY].[dbo].[tblEmployee] E\r\n",
                "JOIN [FUH_COMPANY].[dbo].[tblEmployee] M\r\n",
                "ON E.supervisorSSN = M.empSSN\r\n",
                "WHERE E.empName = 'Mai Duy An'"
            ],
            "metadata": {
                "azdata_cell_guid": "b9f443f2-2a32-4f8c-8747-64d0d567828e",
                "language": "sql"
            },
            "outputs": [
                {
                    "output_type": "display_data",
                    "data": {
                        "text/html": "(1 row affected)"
                    },
                    "metadata": {}
                },
                {
                    "output_type": "display_data",
                    "data": {
                        "text/html": "Total execution time: 00:00:00.010"
                    },
                    "metadata": {}
                },
                {
                    "output_type": "execute_result",
                    "execution_count": 5,
                    "data": {
                        "application/vnd.dataresource+json": {
                            "schema": {
                                "fields": [
                                    {
                                        "name": "empSSN"
                                    },
                                    {
                                        "name": "empName"
                                    }
                                ]
                            },
                            "data": [
                                {
                                    "empSSN": "30121050037",
                                    "empName": "Võ Việt Anh"
                                }
                            ]
                        },
                        "text/html": "<table><tr><th>empSSN</th><th>empName</th></tr><tr><td>30121050037</td><td>Võ Việt Anh</td></tr></table>"
                    },
                    "metadata": {}
                }
            ],
            "execution_count": 5
        },
        {
            "cell_type": "code",
            "source": [
                "--6._Cho biết dự án có tên ProjectA hiện đang làm việc ở đâu. Thông tin yêu cầu: mã số, tên vị trí làm việc._\r\n",
                "select P.locNum, L.locName\r\n",
                "from [FUH_COMPANY].[dbo].[tblProject] P\r\n",
                "join [FUH_COMPANY].[dbo].[tblLocation] L\r\n",
                "on P.locNum = L.locNum\r\n",
                "where P.proName = 'ProjectA'"
            ],
            "metadata": {
                "azdata_cell_guid": "45ff2892-f14b-4daa-8cf4-e90bdc378605",
                "language": "sql"
            },
            "outputs": [
                {
                    "output_type": "display_data",
                    "data": {
                        "text/html": "(1 row affected)"
                    },
                    "metadata": {}
                },
                {
                    "output_type": "display_data",
                    "data": {
                        "text/html": "Total execution time: 00:00:00.010"
                    },
                    "metadata": {}
                },
                {
                    "output_type": "execute_result",
                    "execution_count": 6,
                    "data": {
                        "application/vnd.dataresource+json": {
                            "schema": {
                                "fields": [
                                    {
                                        "name": "locNum"
                                    },
                                    {
                                        "name": "locName"
                                    }
                                ]
                            },
                            "data": [
                                {
                                    "locNum": "1",
                                    "locName": "TP Hà Nội"
                                }
                            ]
                        },
                        "text/html": "<table><tr><th>locNum</th><th>locName</th></tr><tr><td>1</td><td>TP Hà Nội</td></tr></table>"
                    },
                    "metadata": {}
                }
            ],
            "execution_count": 6
        },
        {
            "cell_type": "code",
            "source": [
                "--7_Cho biết vị trí làm việc có tên Tp. HCM hiện đang là chỗ làm việc của những dự án nào. Thông tin yêu cầu: mã số, tên dự án_\r\n",
                "select P.proNum, P.proName\r\n",
                "from [FUH_COMPANY].[dbo].[tblProject] P\r\n",
                "join [FUH_COMPANY].[dbo].[tblLocation] L\r\n",
                "on P.locNum = L.locNum\r\n",
                "where L.locName = N'TP Hồ Chí Minh'"
            ],
            "metadata": {
                "azdata_cell_guid": "335a9ca4-809c-4c01-bc6c-8ac8ef02d492",
                "language": "sql"
            },
            "outputs": [
                {
                    "output_type": "display_data",
                    "data": {
                        "text/html": "(1 row affected)"
                    },
                    "metadata": {}
                },
                {
                    "output_type": "display_data",
                    "data": {
                        "text/html": "Total execution time: 00:00:00.004"
                    },
                    "metadata": {}
                },
                {
                    "output_type": "execute_result",
                    "execution_count": 7,
                    "data": {
                        "application/vnd.dataresource+json": {
                            "schema": {
                                "fields": [
                                    {
                                        "name": "proNum"
                                    },
                                    {
                                        "name": "proName"
                                    }
                                ]
                            },
                            "data": [
                                {
                                    "proNum": "5",
                                    "proName": "ProjectE"
                                }
                            ]
                        },
                        "text/html": "<table><tr><th>proNum</th><th>proName</th></tr><tr><td>5</td><td>ProjectE</td></tr></table>"
                    },
                    "metadata": {}
                }
            ],
            "execution_count": 7
        },
        {
            "cell_type": "code",
            "source": [
                "--8._Cho biết những người phụ thuộc trên 18 tuổi .Thông tin yêu cầu: tên, ngày tháng năm sinh của người phụ thuộc, tên nhân viên phụ thuộc vào.\r\n",
                "select De.depName, De.depBirthdate,  E.empName\r\n",
                "from [FUH_COMPANY].[dbo].[tblDependent] De \r\n",
                "join [FUH_COMPANY].[dbo].[tblEmployee] E\r\n",
                "on De.empSSN = E.empSSN\r\n",
                "where datediff(year, De.depBirthdate, GETDATE()) > 18;"
            ],
            "metadata": {
                "azdata_cell_guid": "88810d57-7778-4533-9490-afe770bf31f7",
                "language": "sql"
            },
            "outputs": [
                {
                    "output_type": "display_data",
                    "data": {
                        "text/html": "(13 rows affected)"
                    },
                    "metadata": {}
                },
                {
                    "output_type": "display_data",
                    "data": {
                        "text/html": "Total execution time: 00:00:00.015"
                    },
                    "metadata": {}
                },
                {
                    "output_type": "execute_result",
                    "execution_count": 8,
                    "data": {
                        "application/vnd.dataresource+json": {
                            "schema": {
                                "fields": [
                                    {
                                        "name": "depName"
                                    },
                                    {
                                        "name": "depBirthdate"
                                    },
                                    {
                                        "name": "empName"
                                    }
                                ]
                            },
                            "data": [
                                {
                                    "depName": "Bùi Phương Ngọc",
                                    "depBirthdate": "1967-03-30 00:00:00.000",
                                    "empName": "Trần Ngọc Như Hằng"
                                },
                                {
                                    "depName": "Đoàn Minh Đạo",
                                    "depBirthdate": "1962-10-04 00:00:00.000",
                                    "empName": "Vũ Thuỵ Hồng Anh"
                                },
                                {
                                    "depName": "Hà Mỹ Duyên",
                                    "depBirthdate": "1980-06-15 00:00:00.000",
                                    "empName": "Võ Việt Anh"
                                },
                                {
                                    "depName": "Hồ Đức Trung Hữu",
                                    "depBirthdate": "1960-04-16 00:00:00.000",
                                    "empName": "Lê Hoàng Linh Giang"
                                },
                                {
                                    "depName": "Huỳnh Thị Ngọc Điệp",
                                    "depBirthdate": "1970-06-13 00:00:00.000",
                                    "empName": "Trần Nguyễn Phương Bình"
                                },
                                {
                                    "depName": "Nguyễn Thạc Hải",
                                    "depBirthdate": "1970-09-17 00:00:00.000",
                                    "empName": "Bùi Thị Thu Hương"
                                },
                                {
                                    "depName": "Nguyễn Thị Minh Hà",
                                    "depBirthdate": "1980-03-06 00:00:00.000",
                                    "empName": "Nguyễn Thị Minh Hưng"
                                },
                                {
                                    "depName": "Nguyễn Thị Minh Hằng",
                                    "depBirthdate": "1965-01-04 00:00:00.000",
                                    "empName": "Trần Thiện Bảo"
                                },
                                {
                                    "depName": "Nguyễn Thị Thu Hằng",
                                    "depBirthdate": "1969-03-30 00:00:00.000",
                                    "empName": "Nguyễn Hoàng Dũng"
                                },
                                {
                                    "depName": "Nguyễn Thị Thùy Dung",
                                    "depBirthdate": "1953-10-01 00:00:00.000",
                                    "empName": "Nguyễn Thúy Quỳnh Anh"
                                },
                                {
                                    "depName": "Phạm Nguyên Dũng",
                                    "depBirthdate": "1965-04-16 00:00:00.000",
                                    "empName": "Huỳnh Mai Anh"
                                },
                                {
                                    "depName": "Phan Thành Đăng",
                                    "depBirthdate": "1970-02-24 00:00:00.000",
                                    "empName": "Tống Thị Lan Anh"
                                },
                                {
                                    "depName": "Vương Thị Kim Cúc",
                                    "depBirthdate": "1978-03-20 00:00:00.000",
                                    "empName": "Mai Duy An"
                                }
                            ]
                        },
                        "text/html": "<table><tr><th>depName</th><th>depBirthdate</th><th>empName</th></tr><tr><td>Bùi Phương Ngọc</td><td>1967-03-30 00:00:00.000</td><td>Trần Ngọc Như Hằng</td></tr><tr><td>Đoàn Minh Đạo</td><td>1962-10-04 00:00:00.000</td><td>Vũ Thuỵ Hồng Anh</td></tr><tr><td>Hà Mỹ Duyên</td><td>1980-06-15 00:00:00.000</td><td>Võ Việt Anh</td></tr><tr><td>Hồ Đức Trung Hữu</td><td>1960-04-16 00:00:00.000</td><td>Lê Hoàng Linh Giang</td></tr><tr><td>Huỳnh Thị Ngọc Điệp</td><td>1970-06-13 00:00:00.000</td><td>Trần Nguyễn Phương Bình</td></tr><tr><td>Nguyễn Thạc Hải</td><td>1970-09-17 00:00:00.000</td><td>Bùi Thị Thu Hương</td></tr><tr><td>Nguyễn Thị Minh Hà</td><td>1980-03-06 00:00:00.000</td><td>Nguyễn Thị Minh Hưng</td></tr><tr><td>Nguyễn Thị Minh Hằng</td><td>1965-01-04 00:00:00.000</td><td>Trần Thiện Bảo</td></tr><tr><td>Nguyễn Thị Thu Hằng</td><td>1969-03-30 00:00:00.000</td><td>Nguyễn Hoàng Dũng</td></tr><tr><td>Nguyễn Thị Thùy Dung</td><td>1953-10-01 00:00:00.000</td><td>Nguyễn Thúy Quỳnh Anh</td></tr><tr><td>Phạm Nguyên Dũng</td><td>1965-04-16 00:00:00.000</td><td>Huỳnh Mai Anh</td></tr><tr><td>Phan Thành Đăng</td><td>1970-02-24 00:00:00.000</td><td>Tống Thị Lan Anh</td></tr><tr><td>Vương Thị Kim Cúc</td><td>1978-03-20 00:00:00.000</td><td>Mai Duy An</td></tr></table>"
                    },
                    "metadata": {}
                }
            ],
            "execution_count": 8
        },
        {
            "cell_type": "code",
            "source": [
                "--_9._       _Cho biết những người phụ thuộc  là nam giới. Thông tin yêu cầu: tên, ngày tháng năm sinh của người phụ thuộc, tên nhân viên phụ thuộc vào_\r\n",
                "select De.depName, De.depBirthdate,  E.empName\r\n",
                "from [FUH_COMPANY].[dbo].[tblDependent] De \r\n",
                "join [FUH_COMPANY].[dbo].[tblEmployee] E\r\n",
                "on De.empSSN = E.empSSN\r\n",
                "where De.depSex = 'M';"
            ],
            "metadata": {
                "azdata_cell_guid": "80949117-baf9-434b-955a-b136679dfac5",
                "language": "sql"
            },
            "outputs": [
                {
                    "output_type": "display_data",
                    "data": {
                        "text/html": "(6 rows affected)"
                    },
                    "metadata": {}
                },
                {
                    "output_type": "display_data",
                    "data": {
                        "text/html": "Total execution time: 00:00:00.009"
                    },
                    "metadata": {}
                },
                {
                    "output_type": "execute_result",
                    "execution_count": 9,
                    "data": {
                        "application/vnd.dataresource+json": {
                            "schema": {
                                "fields": [
                                    {
                                        "name": "depName"
                                    },
                                    {
                                        "name": "depBirthdate"
                                    },
                                    {
                                        "name": "empName"
                                    }
                                ]
                            },
                            "data": [
                                {
                                    "depName": "Bùi Phương Ngọc",
                                    "depBirthdate": "1967-03-30 00:00:00.000",
                                    "empName": "Trần Ngọc Như Hằng"
                                },
                                {
                                    "depName": "Đoàn Minh Đạo",
                                    "depBirthdate": "1962-10-04 00:00:00.000",
                                    "empName": "Vũ Thuỵ Hồng Anh"
                                },
                                {
                                    "depName": "Hồ Đức Trung Hữu",
                                    "depBirthdate": "1960-04-16 00:00:00.000",
                                    "empName": "Lê Hoàng Linh Giang"
                                },
                                {
                                    "depName": "Nguyễn Thạc Hải",
                                    "depBirthdate": "1970-09-17 00:00:00.000",
                                    "empName": "Bùi Thị Thu Hương"
                                },
                                {
                                    "depName": "Phạm Nguyên Dũng",
                                    "depBirthdate": "1965-04-16 00:00:00.000",
                                    "empName": "Huỳnh Mai Anh"
                                },
                                {
                                    "depName": "Phan Thành Đăng",
                                    "depBirthdate": "1970-02-24 00:00:00.000",
                                    "empName": "Tống Thị Lan Anh"
                                }
                            ]
                        },
                        "text/html": "<table><tr><th>depName</th><th>depBirthdate</th><th>empName</th></tr><tr><td>Bùi Phương Ngọc</td><td>1967-03-30 00:00:00.000</td><td>Trần Ngọc Như Hằng</td></tr><tr><td>Đoàn Minh Đạo</td><td>1962-10-04 00:00:00.000</td><td>Vũ Thuỵ Hồng Anh</td></tr><tr><td>Hồ Đức Trung Hữu</td><td>1960-04-16 00:00:00.000</td><td>Lê Hoàng Linh Giang</td></tr><tr><td>Nguyễn Thạc Hải</td><td>1970-09-17 00:00:00.000</td><td>Bùi Thị Thu Hương</td></tr><tr><td>Phạm Nguyên Dũng</td><td>1965-04-16 00:00:00.000</td><td>Huỳnh Mai Anh</td></tr><tr><td>Phan Thành Đăng</td><td>1970-02-24 00:00:00.000</td><td>Tống Thị Lan Anh</td></tr></table>"
                    },
                    "metadata": {}
                }
            ],
            "execution_count": 9
        },
        {
            "cell_type": "code",
            "source": [
                "--10.   _Cho biết những nơi làm việc của phòng ban có tên : Phòng Nghiên cứu và phát triển. Thông tin yêu cầu: mã phòng ban, tên phòng ban, tên nơi làm việc._\r\n",
                "select D.depNum, D.depName, L.locName\r\n",
                "from [FUH_COMPANY].[dbo].[tblDepartment] D\r\n",
                "join [FUH_COMPANY].[dbo].[tblProject] P\r\n",
                "on D.depNum = P.depNum\r\n",
                "join [FUH_COMPANY].[dbo].[tblLocation] L \r\n",
                "on P.locNum = L.locNum\r\n",
                "WHERE D.depName = N'Phòng Nghiên cứu và phát triển'"
            ],
            "metadata": {
                "azdata_cell_guid": "77714a0a-8d9c-4925-8766-5a5ca623c790",
                "language": "sql"
            },
            "outputs": [
                {
                    "output_type": "display_data",
                    "data": {
                        "text/html": "(0 rows affected)"
                    },
                    "metadata": {}
                },
                {
                    "output_type": "display_data",
                    "data": {
                        "text/html": "Total execution time: 00:00:00.006"
                    },
                    "metadata": {}
                },
                {
                    "output_type": "execute_result",
                    "execution_count": 10,
                    "data": {
                        "application/vnd.dataresource+json": {
                            "schema": {
                                "fields": [
                                    {
                                        "name": "depNum"
                                    },
                                    {
                                        "name": "depName"
                                    },
                                    {
                                        "name": "locName"
                                    }
                                ]
                            },
                            "data": []
                        },
                        "text/html": "<table><tr><th>depNum</th><th>depName</th><th>locName</th></tr></table>"
                    },
                    "metadata": {}
                }
            ],
            "execution_count": 10
        },
        {
            "cell_type": "code",
            "source": [
                "--11_Cho biết các dự án làm việc tại Tp. HCM. Thông tin yêu cầu: mã dự án, tên dự án, tên phòng ban chịu trách nhiệm dự án._\r\n",
                "select P.proNum, P.proName, D.depName\r\n",
                "from [FUH_COMPANY].[dbo].[tblDepartment] D\r\n",
                "join [FUH_COMPANY].[dbo].[tblProject] P\r\n",
                "on D.depNum = P.depNum\r\n",
                "join [FUH_COMPANY].[dbo].[tblLocation] L \r\n",
                "on P.locNum = L.locNum\r\n",
                "where L.locName = N'TP Hồ Chí Minh'"
            ],
            "metadata": {
                "azdata_cell_guid": "39bedc2b-930d-4291-8a8e-1ee406243436",
                "language": "sql"
            },
            "outputs": [
                {
                    "output_type": "display_data",
                    "data": {
                        "text/html": "(1 row affected)"
                    },
                    "metadata": {}
                },
                {
                    "output_type": "display_data",
                    "data": {
                        "text/html": "Total execution time: 00:00:00.008"
                    },
                    "metadata": {}
                },
                {
                    "output_type": "execute_result",
                    "execution_count": 11,
                    "data": {
                        "application/vnd.dataresource+json": {
                            "schema": {
                                "fields": [
                                    {
                                        "name": "proNum"
                                    },
                                    {
                                        "name": "proName"
                                    },
                                    {
                                        "name": "depName"
                                    }
                                ]
                            },
                            "data": [
                                {
                                    "proNum": "5",
                                    "proName": "ProjectE",
                                    "depName": "Phòng Dịch vụ chăm sóc khách hàng"
                                }
                            ]
                        },
                        "text/html": "<table><tr><th>proNum</th><th>proName</th><th>depName</th></tr><tr><td>5</td><td>ProjectE</td><td>Phòng Dịch vụ chăm sóc khách hàng</td></tr></table>"
                    },
                    "metadata": {}
                }
            ],
            "execution_count": 11
        },
        {
            "cell_type": "code",
            "source": [
                "--12_Cho biết những người phụ thuộc là nữ giới, của nhân viên thuộc phòng ban có tên: Phòng Nghiên cứu và phát triển . Thông tin yêu cầu: tên nhân viên, tên người phụ thuộc, mối liên hệ giữa người phụ thuộc với nhân viên_\r\n",
                "select E.empName, depe.depName, depe.depRelationship\r\n",
                "from [FUH_COMPANY].[dbo].[tblDependent] depe\r\n",
                "join [FUH_COMPANY].[dbo].[tblEmployee] E\r\n",
                "on Depe.empSSN = E.empSSN\r\n",
                "join [FUH_COMPANY].[dbo].[tblDepartment] D\r\n",
                "on E.depNum = D.depNum \r\n",
                "WHERE D.depName = N'Phòng Nghiên cứu và phát triển' AND depe.depSex = 'F'"
            ],
            "metadata": {
                "azdata_cell_guid": "0b387678-a3dc-4043-a8fa-de2c953d76b8",
                "language": "sql"
            },
            "outputs": [
                {
                    "output_type": "display_data",
                    "data": {
                        "text/html": "(1 row affected)"
                    },
                    "metadata": {}
                },
                {
                    "output_type": "display_data",
                    "data": {
                        "text/html": "Total execution time: 00:00:00.010"
                    },
                    "metadata": {}
                },
                {
                    "output_type": "execute_result",
                    "execution_count": 12,
                    "data": {
                        "application/vnd.dataresource+json": {
                            "schema": {
                                "fields": [
                                    {
                                        "name": "empName"
                                    },
                                    {
                                        "name": "depName"
                                    },
                                    {
                                        "name": "depRelationship"
                                    }
                                ]
                            },
                            "data": [
                                {
                                    "empName": "Nguyễn Thị Minh Hưng",
                                    "depName": "Nguyễn Thị Minh Hà",
                                    "depRelationship": "Em"
                                }
                            ]
                        },
                        "text/html": "<table><tr><th>empName</th><th>depName</th><th>depRelationship</th></tr><tr><td>Nguyễn Thị Minh Hưng</td><td>Nguyễn Thị Minh Hà</td><td>Em</td></tr></table>"
                    },
                    "metadata": {}
                }
            ],
            "execution_count": 12
        },
        {
            "cell_type": "code",
            "source": [
                "--13._   _Cho biết những người phụ thuộc trên 18 tuổi, của nhân viên thuộc phòng ban có tên: Phòng Nghiên cứu và phát triển. Thông tin yêu cầu: tên nhân viên, tên người phụ thuộc, mối liên hệ giữa người phụ thuộc với nhân viên\r\n",
                "select E.empName, depe.depName, depe.depRelationship\r\n",
                "from [FUH_COMPANY].[dbo].[tblDependent] depe\r\n",
                "join [FUH_COMPANY].[dbo].[tblEmployee] E\r\n",
                "on Depe.empSSN = E.empSSN\r\n",
                "join [FUH_COMPANY].[dbo].[tblDepartment] D\r\n",
                "on E.depNum = D.depNum \r\n",
                "WHERE D.depName = N'Phòng Nghiên cứu và phát triển' AND datediff(year, depe.depBirthdate, GETDATE()) > 18;"
            ],
            "metadata": {
                "azdata_cell_guid": "22d1ee62-5dfa-4af7-9245-ccfbd7ebb946",
                "language": "sql"
            },
            "outputs": [
                {
                    "output_type": "display_data",
                    "data": {
                        "text/html": "(2 rows affected)"
                    },
                    "metadata": {}
                },
                {
                    "output_type": "display_data",
                    "data": {
                        "text/html": "Total execution time: 00:00:00.010"
                    },
                    "metadata": {}
                },
                {
                    "output_type": "execute_result",
                    "execution_count": 13,
                    "data": {
                        "application/vnd.dataresource+json": {
                            "schema": {
                                "fields": [
                                    {
                                        "name": "empName"
                                    },
                                    {
                                        "name": "depName"
                                    },
                                    {
                                        "name": "depRelationship"
                                    }
                                ]
                            },
                            "data": [
                                {
                                    "empName": "Trần Ngọc Như Hằng",
                                    "depName": "Bùi Phương Ngọc",
                                    "depRelationship": "Chồng"
                                },
                                {
                                    "empName": "Nguyễn Thị Minh Hưng",
                                    "depName": "Nguyễn Thị Minh Hà",
                                    "depRelationship": "Em"
                                }
                            ]
                        },
                        "text/html": "<table><tr><th>empName</th><th>depName</th><th>depRelationship</th></tr><tr><td>Trần Ngọc Như Hằng</td><td>Bùi Phương Ngọc</td><td>Chồng</td></tr><tr><td>Nguyễn Thị Minh Hưng</td><td>Nguyễn Thị Minh Hà</td><td>Em</td></tr></table>"
                    },
                    "metadata": {}
                }
            ],
            "execution_count": 13
        },
        {
            "cell_type": "code",
            "source": [
                "--14._   _Cho biết số lượng người phụ thuộc theo giới tính. Thông tin yêu cầu: giới tính, số lượng người phụ thuộc\r\n",
                "select D.depSex, COUNT(*) AS total_dependent\r\n",
                "from [FUH_COMPANY].[dbo].[tblDependent] D\r\n",
                "GROUP BY D.depSex"
            ],
            "metadata": {
                "azdata_cell_guid": "f39f1844-e69c-4ef3-975c-57bba23cb8d6",
                "language": "sql",
                "tags": []
            },
            "outputs": [
                {
                    "output_type": "display_data",
                    "data": {
                        "text/html": "(2 rows affected)"
                    },
                    "metadata": {}
                },
                {
                    "output_type": "display_data",
                    "data": {
                        "text/html": "Total execution time: 00:00:00.008"
                    },
                    "metadata": {}
                },
                {
                    "output_type": "execute_result",
                    "execution_count": 14,
                    "data": {
                        "application/vnd.dataresource+json": {
                            "schema": {
                                "fields": [
                                    {
                                        "name": "depSex"
                                    },
                                    {
                                        "name": "total_dependent"
                                    }
                                ]
                            },
                            "data": [
                                {
                                    "depSex": "F",
                                    "total_dependent": "7"
                                },
                                {
                                    "depSex": "M",
                                    "total_dependent": "6"
                                }
                            ]
                        },
                        "text/html": "<table><tr><th>depSex</th><th>total_dependent</th></tr><tr><td>F</td><td>7</td></tr><tr><td>M</td><td>6</td></tr></table>"
                    },
                    "metadata": {}
                }
            ],
            "execution_count": 14
        },
        {
            "cell_type": "code",
            "source": [
                "--15._Cho biết số lượng người phụ thuộc theo mối liên hệ với nhân viên. Thông tin yêu cầu: mối liên hệ, số lượng người phụ thuộc_\r\n",
                "select D.depRelationship, COUNT(*) AS total_dependent\r\n",
                "from [FUH_COMPANY].[dbo].[tblDependent] D\r\n",
                "GROUP BY D.depRelationship"
            ],
            "metadata": {
                "azdata_cell_guid": "38710855-8ae8-4c18-8cde-f51afc42c895",
                "language": "sql"
            },
            "outputs": [
                {
                    "output_type": "display_data",
                    "data": {
                        "text/html": "(4 rows affected)"
                    },
                    "metadata": {}
                },
                {
                    "output_type": "display_data",
                    "data": {
                        "text/html": "Total execution time: 00:00:00.008"
                    },
                    "metadata": {}
                },
                {
                    "output_type": "execute_result",
                    "execution_count": 15,
                    "data": {
                        "application/vnd.dataresource+json": {
                            "schema": {
                                "fields": [
                                    {
                                        "name": "depRelationship"
                                    },
                                    {
                                        "name": "total_dependent"
                                    }
                                ]
                            },
                            "data": [
                                {
                                    "depRelationship": "Chồng",
                                    "total_dependent": "6"
                                },
                                {
                                    "depRelationship": "Em",
                                    "total_dependent": "2"
                                },
                                {
                                    "depRelationship": "Mẹ",
                                    "total_dependent": "1"
                                },
                                {
                                    "depRelationship": "Vợ",
                                    "total_dependent": "4"
                                }
                            ]
                        },
                        "text/html": "<table><tr><th>depRelationship</th><th>total_dependent</th></tr><tr><td>Chồng</td><td>6</td></tr><tr><td>Em</td><td>2</td></tr><tr><td>Mẹ</td><td>1</td></tr><tr><td>Vợ</td><td>4</td></tr></table>"
                    },
                    "metadata": {}
                }
            ],
            "execution_count": 15
        },
        {
            "cell_type": "code",
            "source": [
                "--16 _Cho biết số lượng người phụ thuộc theo mỗi phòng ban. Thông tin yêu cầu: mã phòng ban, tên phòng ban, số lượng người phụ thuộc_\\\r\n",
                "select D.depNum, D.depName, COUNT(depe.depName) AS total_dependent\r\n",
                "from [FUH_COMPANY].[dbo].[tblDependent] depe\r\n",
                "join [FUH_COMPANY].[dbo].[tblEmployee] E\r\n",
                "on Depe.empSSN = E.empSSN\r\n",
                "join [FUH_COMPANY].[dbo].[tblDepartment] D\r\n",
                "on E.depNum = D.depNum \r\n",
                "GROUP BY D.depNum, D.depName;"
            ],
            "metadata": {
                "azdata_cell_guid": "fc455201-0dde-489c-a23f-f660671fdb0a",
                "language": "sql"
            },
            "outputs": [
                {
                    "output_type": "display_data",
                    "data": {
                        "text/html": "(4 rows affected)"
                    },
                    "metadata": {}
                },
                {
                    "output_type": "display_data",
                    "data": {
                        "text/html": "Total execution time: 00:00:00.014"
                    },
                    "metadata": {}
                },
                {
                    "output_type": "execute_result",
                    "execution_count": 16,
                    "data": {
                        "application/vnd.dataresource+json": {
                            "schema": {
                                "fields": [
                                    {
                                        "name": "depNum"
                                    },
                                    {
                                        "name": "depName"
                                    },
                                    {
                                        "name": "total_dependent"
                                    }
                                ]
                            },
                            "data": [
                                {
                                    "depNum": "1",
                                    "depName": "Phòng Phần mềm trong nước",
                                    "total_dependent": "5"
                                },
                                {
                                    "depNum": "2",
                                    "depName": "Phòng Phần mềm nước ngoài",
                                    "total_dependent": "5"
                                },
                                {
                                    "depNum": "3",
                                    "depName": "Phòng Giải pháp mạng truyền thông",
                                    "total_dependent": "1"
                                },
                                {
                                    "depNum": "5",
                                    "depName": "Phòng Nghiên cứu và phát triển",
                                    "total_dependent": "2"
                                }
                            ]
                        },
                        "text/html": "<table><tr><th>depNum</th><th>depName</th><th>total_dependent</th></tr><tr><td>1</td><td>Phòng Phần mềm trong nước</td><td>5</td></tr><tr><td>2</td><td>Phòng Phần mềm nước ngoài</td><td>5</td></tr><tr><td>3</td><td>Phòng Giải pháp mạng truyền thông</td><td>1</td></tr><tr><td>5</td><td>Phòng Nghiên cứu và phát triển</td><td>2</td></tr></table>"
                    },
                    "metadata": {}
                }
            ],
            "execution_count": 16
        },
        {
            "cell_type": "code",
            "source": [
                "--17  _Cho biết phòng ban nào có số lượng người phụ thuộc là ít nhất. Thông tin yêu cầu: mã phòng ban, tên phòng ban, số lượng người phụ thuộc_\r\n",
                "SELECT TOP(1) D.depNum, D.depName, COUNT(depe.depName) AS total_dependent\r\n",
                "FROM [FUH_COMPANY].[dbo].[tblDependent] depe\r\n",
                "JOIN [FUH_COMPANY].[dbo].[tblEmployee] E ON depe.empSSN = E.empSSN\r\n",
                "JOIN [FUH_COMPANY].[dbo].[tblDepartment] D ON E.depNum = D.depNum \r\n",
                "GROUP BY D.depNum, D.depName\r\n",
                "order by total_dependent;"
            ],
            "metadata": {
                "azdata_cell_guid": "2ee92e6c-023b-40e4-bb5f-4165a5ddf28d",
                "language": "sql"
            },
            "outputs": [
                {
                    "output_type": "display_data",
                    "data": {
                        "text/html": "(1 row affected)"
                    },
                    "metadata": {}
                },
                {
                    "output_type": "display_data",
                    "data": {
                        "text/html": "Total execution time: 00:00:00.007"
                    },
                    "metadata": {}
                },
                {
                    "output_type": "execute_result",
                    "execution_count": 22,
                    "data": {
                        "application/vnd.dataresource+json": {
                            "schema": {
                                "fields": [
                                    {
                                        "name": "depNum"
                                    },
                                    {
                                        "name": "depName"
                                    },
                                    {
                                        "name": "total_dependent"
                                    }
                                ]
                            },
                            "data": [
                                {
                                    "depNum": "3",
                                    "depName": "Phòng Giải pháp mạng truyền thông",
                                    "total_dependent": "1"
                                }
                            ]
                        },
                        "text/html": "<table><tr><th>depNum</th><th>depName</th><th>total_dependent</th></tr><tr><td>3</td><td>Phòng Giải pháp mạng truyền thông</td><td>1</td></tr></table>"
                    },
                    "metadata": {}
                }
            ],
            "execution_count": 22
        },
        {
            "cell_type": "code",
            "source": [
                "--18._Cho biết phòng ban nào có số lượng người phụ thuộc là nhiều nhất. Thông tin yêu cầu: mã phòng ban, tên phòng ban, số lượng người phụ thuộc_\r\n",
                "SELECT TOP(1) D.depNum, D.depName, COUNT(depe.depName) AS total_dependent\r\n",
                "FROM [FUH_COMPANY].[dbo].[tblDependent] depe\r\n",
                "JOIN [FUH_COMPANY].[dbo].[tblEmployee] E ON depe.empSSN = E.empSSN\r\n",
                "JOIN [FUH_COMPANY].[dbo].[tblDepartment] D ON E.depNum = D.depNum \r\n",
                "GROUP BY D.depNum, D.depName\r\n",
                "order by total_dependent desc;"
            ],
            "metadata": {
                "azdata_cell_guid": "a9edf0b7-61e7-4850-a0b2-4bd38f4f6370",
                "language": "sql"
            },
            "outputs": [
                {
                    "output_type": "display_data",
                    "data": {
                        "text/html": "(1 row affected)"
                    },
                    "metadata": {}
                },
                {
                    "output_type": "display_data",
                    "data": {
                        "text/html": "Total execution time: 00:00:00.009"
                    },
                    "metadata": {}
                },
                {
                    "output_type": "execute_result",
                    "execution_count": 23,
                    "data": {
                        "application/vnd.dataresource+json": {
                            "schema": {
                                "fields": [
                                    {
                                        "name": "depNum"
                                    },
                                    {
                                        "name": "depName"
                                    },
                                    {
                                        "name": "total_dependent"
                                    }
                                ]
                            },
                            "data": [
                                {
                                    "depNum": "2",
                                    "depName": "Phòng Phần mềm nước ngoài",
                                    "total_dependent": "5"
                                }
                            ]
                        },
                        "text/html": "<table><tr><th>depNum</th><th>depName</th><th>total_dependent</th></tr><tr><td>2</td><td>Phòng Phần mềm nước ngoài</td><td>5</td></tr></table>"
                    },
                    "metadata": {}
                }
            ],
            "execution_count": 23
        },
        {
            "cell_type": "code",
            "source": [
                "--19. Cho biết tổng số giờ tham gia dự án của mỗi nhân viên. Thông tin yêu cầu: mã nhân viên, tên nhân viên, tên phòng ban của nhân viên\r\n",
                "select E.empSSN, E.empName, D.depName, sum(w.workHours) as total_work\r\n",
                "from [FUH_COMPANY].[dbo].[tblEmployee] E\r\n",
                "join [FUH_COMPANY].[dbo].[tblDepartment] D on e.depNum = d.depNum\r\n",
                "join [FUH_COMPANY].[dbo].[tblWorksOn] W on e.empSSN = w.empSSN\r\n",
                "group by e.empSSN, e.empName, d.depName;"
            ],
            "metadata": {
                "azdata_cell_guid": "3e0628bb-1622-4984-9b7e-73e3a0d06f25",
                "language": "sql",
                "tags": []
            },
            "outputs": [
                {
                    "output_type": "display_data",
                    "data": {
                        "text/html": "(15 rows affected)"
                    },
                    "metadata": {}
                },
                {
                    "output_type": "display_data",
                    "data": {
                        "text/html": "Total execution time: 00:00:00.021"
                    },
                    "metadata": {}
                },
                {
                    "output_type": "execute_result",
                    "execution_count": 26,
                    "data": {
                        "application/vnd.dataresource+json": {
                            "schema": {
                                "fields": [
                                    {
                                        "name": "empSSN"
                                    },
                                    {
                                        "name": "empName"
                                    },
                                    {
                                        "name": "depName"
                                    },
                                    {
                                        "name": "total_work"
                                    }
                                ]
                            },
                            "data": [
                                {
                                    "empSSN": "30121050027",
                                    "empName": "Nguyễn Thúy Quỳnh Anh",
                                    "depName": "Phòng Phần mềm trong nước",
                                    "total_work": "30"
                                },
                                {
                                    "empSSN": "30121050035",
                                    "empName": "Tống Thị Lan Anh",
                                    "depName": "Phòng Phần mềm trong nước",
                                    "total_work": "15"
                                },
                                {
                                    "empSSN": "30121050037",
                                    "empName": "Võ Việt Anh",
                                    "depName": "Phòng Phần mềm trong nước",
                                    "total_work": "40"
                                },
                                {
                                    "empSSN": "30121050038",
                                    "empName": "Vũ Thuỵ Hồng Anh",
                                    "depName": "Phòng Phần mềm nước ngoài",
                                    "total_work": "45"
                                },
                                {
                                    "empSSN": "30121050049",
                                    "empName": "Trần Nguyễn Phương Bình",
                                    "depName": "Phòng Phần mềm nước ngoài",
                                    "total_work": "30"
                                },
                                {
                                    "empSSN": "30121050060",
                                    "empName": "Trần Thiện Bảo",
                                    "depName": "Phòng Phần mềm nước ngoài",
                                    "total_work": "48"
                                },
                                {
                                    "empSSN": "30121050142",
                                    "empName": "Nguyễn Hoàng Dũng",
                                    "depName": "Phòng Phần mềm nước ngoài",
                                    "total_work": "21"
                                },
                                {
                                    "empSSN": "30121050158",
                                    "empName": "Lê Hoàng Linh Giang",
                                    "depName": "Phòng Phần mềm nước ngoài",
                                    "total_work": "33"
                                },
                                {
                                    "empSSN": "30121050254",
                                    "empName": "Bùi Thị Thu Hương",
                                    "depName": "Phòng Giải pháp mạng truyền thông",
                                    "total_work": "24"
                                },
                                {
                                    "empSSN": "30121050265",
                                    "empName": "Phạm Thị Ngọc Hảo",
                                    "depName": "Phòng Giải pháp mạng truyền thông",
                                    "total_work": "40"
                                },
                                {
                                    "empSSN": "30121050294",
                                    "empName": "Trịnh Hạnh",
                                    "depName": "Phòng Dịch vụ chăm sóc khách hàng",
                                    "total_work": "20"
                                },
                                {
                                    "empSSN": "30121050295",
                                    "empName": "Huỳnh Thị Như Hồng",
                                    "depName": "Phòng Dịch vụ chăm sóc khách hàng",
                                    "total_work": "15"
                                },
                                {
                                    "empSSN": "30121050322",
                                    "empName": "Đỗ Thị Thúy Hùng",
                                    "depName": "Phòng Giải pháp mạng truyền thông",
                                    "total_work": "30"
                                },
                                {
                                    "empSSN": "30121050336",
                                    "empName": "Trương Thanh Hiền",
                                    "depName": "Phòng Dịch vụ chăm sóc khách hàng",
                                    "total_work": "15"
                                },
                                {
                                    "empSSN": "30121050982",
                                    "empName": "Hồ Việt Hoà",
                                    "depName": "Phòng Giải pháp mạng truyền thông",
                                    "total_work": "43"
                                }
                            ]
                        },
                        "text/html": "<table><tr><th>empSSN</th><th>empName</th><th>depName</th><th>total_work</th></tr><tr><td>30121050027</td><td>Nguyễn Thúy Quỳnh Anh</td><td>Phòng Phần mềm trong nước</td><td>30</td></tr><tr><td>30121050035</td><td>Tống Thị Lan Anh</td><td>Phòng Phần mềm trong nước</td><td>15</td></tr><tr><td>30121050037</td><td>Võ Việt Anh</td><td>Phòng Phần mềm trong nước</td><td>40</td></tr><tr><td>30121050038</td><td>Vũ Thuỵ Hồng Anh</td><td>Phòng Phần mềm nước ngoài</td><td>45</td></tr><tr><td>30121050049</td><td>Trần Nguyễn Phương Bình</td><td>Phòng Phần mềm nước ngoài</td><td>30</td></tr><tr><td>30121050060</td><td>Trần Thiện Bảo</td><td>Phòng Phần mềm nước ngoài</td><td>48</td></tr><tr><td>30121050142</td><td>Nguyễn Hoàng Dũng</td><td>Phòng Phần mềm nước ngoài</td><td>21</td></tr><tr><td>30121050158</td><td>Lê Hoàng Linh Giang</td><td>Phòng Phần mềm nước ngoài</td><td>33</td></tr><tr><td>30121050254</td><td>Bùi Thị Thu Hương</td><td>Phòng Giải pháp mạng truyền thông</td><td>24</td></tr><tr><td>30121050265</td><td>Phạm Thị Ngọc Hảo</td><td>Phòng Giải pháp mạng truyền thông</td><td>40</td></tr><tr><td>30121050294</td><td>Trịnh Hạnh</td><td>Phòng Dịch vụ chăm sóc khách hàng</td><td>20</td></tr><tr><td>30121050295</td><td>Huỳnh Thị Như Hồng</td><td>Phòng Dịch vụ chăm sóc khách hàng</td><td>15</td></tr><tr><td>30121050322</td><td>Đỗ Thị Thúy Hùng</td><td>Phòng Giải pháp mạng truyền thông</td><td>30</td></tr><tr><td>30121050336</td><td>Trương Thanh Hiền</td><td>Phòng Dịch vụ chăm sóc khách hàng</td><td>15</td></tr><tr><td>30121050982</td><td>Hồ Việt Hoà</td><td>Phòng Giải pháp mạng truyền thông</td><td>43</td></tr></table>"
                    },
                    "metadata": {}
                }
            ],
            "execution_count": 26
        },
        {
            "cell_type": "code",
            "source": [
                "--20 _Cho biết tổng số giờ làm dự án của mỗi phòng ban. Thông tin yêu cầu: mã phòng ban,  tên phòng ban, tổng số giờ\r\n",
                "select D.depNum, D.depName, sum(w.workHours) as total_work\r\n",
                "from [FUH_COMPANY].[dbo].[tblEmployee] E\r\n",
                "join [FUH_COMPANY].[dbo].[tblDepartment] D on e.depNum = d.depNum\r\n",
                "join [FUH_COMPANY].[dbo].[tblWorksOn] W on e.empSSN = w.empSSN\r\n",
                "group by d.depNum, d.depName;"
            ],
            "metadata": {
                "azdata_cell_guid": "9d0d5ea0-3a48-4bbd-8772-be2567ed3488",
                "language": "sql"
            },
            "outputs": [
                {
                    "output_type": "display_data",
                    "data": {
                        "text/html": "(4 rows affected)"
                    },
                    "metadata": {}
                },
                {
                    "output_type": "display_data",
                    "data": {
                        "text/html": "Total execution time: 00:00:00.020"
                    },
                    "metadata": {}
                },
                {
                    "output_type": "execute_result",
                    "execution_count": 27,
                    "data": {
                        "application/vnd.dataresource+json": {
                            "schema": {
                                "fields": [
                                    {
                                        "name": "depNum"
                                    },
                                    {
                                        "name": "depName"
                                    },
                                    {
                                        "name": "total_work"
                                    }
                                ]
                            },
                            "data": [
                                {
                                    "depNum": "1",
                                    "depName": "Phòng Phần mềm trong nước",
                                    "total_work": "85"
                                },
                                {
                                    "depNum": "2",
                                    "depName": "Phòng Phần mềm nước ngoài",
                                    "total_work": "177"
                                },
                                {
                                    "depNum": "3",
                                    "depName": "Phòng Giải pháp mạng truyền thông",
                                    "total_work": "137"
                                },
                                {
                                    "depNum": "4",
                                    "depName": "Phòng Dịch vụ chăm sóc khách hàng",
                                    "total_work": "50"
                                }
                            ]
                        },
                        "text/html": "<table><tr><th>depNum</th><th>depName</th><th>total_work</th></tr><tr><td>1</td><td>Phòng Phần mềm trong nước</td><td>85</td></tr><tr><td>2</td><td>Phòng Phần mềm nước ngoài</td><td>177</td></tr><tr><td>3</td><td>Phòng Giải pháp mạng truyền thông</td><td>137</td></tr><tr><td>4</td><td>Phòng Dịch vụ chăm sóc khách hàng</td><td>50</td></tr></table>"
                    },
                    "metadata": {}
                }
            ],
            "execution_count": 27
        },
        {
            "cell_type": "code",
            "source": [
                "--21 __Cho biết nhân viên nào có số giờ tham gia dự án là ít nhất. Thông tin yêu cầu: mã nhân viên, tên nhân viên, tổng số giờ tham gia dự án_\r\n",
                "select top(1) E.empSSN, E.empName, D.depName, sum(w.workHours) as total_work\r\n",
                "from [FUH_COMPANY].[dbo].[tblEmployee] E\r\n",
                "join [FUH_COMPANY].[dbo].[tblDepartment] D on e.depNum = d.depNum\r\n",
                "join [FUH_COMPANY].[dbo].[tblWorksOn] W on e.empSSN = w.empSSN\r\n",
                "group by e.empSSN, e.empName, d.depName\r\n",
                "order by total_work asc;"
            ],
            "metadata": {
                "azdata_cell_guid": "8e2b401e-02a4-427b-b51e-10453aa63456",
                "language": "sql",
                "tags": []
            },
            "outputs": [
                {
                    "output_type": "display_data",
                    "data": {
                        "text/html": "(1 row affected)"
                    },
                    "metadata": {}
                },
                {
                    "output_type": "display_data",
                    "data": {
                        "text/html": "Total execution time: 00:00:00.013"
                    },
                    "metadata": {}
                },
                {
                    "output_type": "execute_result",
                    "execution_count": 33,
                    "data": {
                        "application/vnd.dataresource+json": {
                            "schema": {
                                "fields": [
                                    {
                                        "name": "empSSN"
                                    },
                                    {
                                        "name": "empName"
                                    },
                                    {
                                        "name": "depName"
                                    },
                                    {
                                        "name": "total_work"
                                    }
                                ]
                            },
                            "data": [
                                {
                                    "empSSN": "30121050035",
                                    "empName": "Tống Thị Lan Anh",
                                    "depName": "Phòng Phần mềm trong nước",
                                    "total_work": "15"
                                }
                            ]
                        },
                        "text/html": "<table><tr><th>empSSN</th><th>empName</th><th>depName</th><th>total_work</th></tr><tr><td>30121050035</td><td>Tống Thị Lan Anh</td><td>Phòng Phần mềm trong nước</td><td>15</td></tr></table>"
                    },
                    "metadata": {}
                }
            ],
            "execution_count": 33
        },
        {
            "cell_type": "code",
            "source": [
                "--22.Cho biết nhân viên nào có số giờ tham gia dự án là nhiều nhất. Thông tin yêu cầu: mã nhân viên, tên nhân viên, tổng số giờ tham gia dự án\r\n",
                "select top(1) E.empSSN, E.empName, D.depName, sum(w.workHours) as total_work\r\n",
                "from [FUH_COMPANY].[dbo].[tblEmployee] E\r\n",
                "join [FUH_COMPANY].[dbo].[tblDepartment] D on e.depNum = d.depNum\r\n",
                "join [FUH_COMPANY].[dbo].[tblWorksOn] W on e.empSSN = w.empSSN\r\n",
                "group by e.empSSN, e.empName, d.depName\r\n",
                "order by total_work desc;"
            ],
            "metadata": {
                "language": "sql",
                "azdata_cell_guid": "829edc81-0762-4202-81c5-47c5d12531d0"
            },
            "outputs": [
                {
                    "output_type": "display_data",
                    "data": {
                        "text/html": "(1 row affected)"
                    },
                    "metadata": {}
                },
                {
                    "output_type": "display_data",
                    "data": {
                        "text/html": "Total execution time: 00:00:00.017"
                    },
                    "metadata": {}
                },
                {
                    "output_type": "execute_result",
                    "execution_count": 34,
                    "data": {
                        "application/vnd.dataresource+json": {
                            "schema": {
                                "fields": [
                                    {
                                        "name": "empSSN"
                                    },
                                    {
                                        "name": "empName"
                                    },
                                    {
                                        "name": "depName"
                                    },
                                    {
                                        "name": "total_work"
                                    }
                                ]
                            },
                            "data": [
                                {
                                    "empSSN": "30121050060",
                                    "empName": "Trần Thiện Bảo",
                                    "depName": "Phòng Phần mềm nước ngoài",
                                    "total_work": "48"
                                }
                            ]
                        },
                        "text/html": "<table><tr><th>empSSN</th><th>empName</th><th>depName</th><th>total_work</th></tr><tr><td>30121050060</td><td>Trần Thiện Bảo</td><td>Phòng Phần mềm nước ngoài</td><td>48</td></tr></table>"
                    },
                    "metadata": {}
                }
            ],
            "execution_count": 34
        },
        {
            "cell_type": "code",
            "source": [
                " --23._Cho biết những nhân viên nào lần đầu tiên tham gia dụ án. Thông tin yêu cầu: mã nhân viên, tên nhân viên, tên phòng ban của nhân viên_\r\n",
                "select E.empSSN, E.empName, D.depName\r\n",
                "from [FUH_COMPANY].[dbo].[tblEmployee] E\r\n",
                "join [FUH_COMPANY].[dbo].[tblDepartment] D on e.depNum = d.depNum\r\n",
                "join [FUH_COMPANY].[dbo].[tblWorksOn] W on e.empSSN = w.empSSN\r\n",
                "group by e.empSSN, e.empName, d.depName\r\n",
                "having COUNT(w.proNum) = 1;"
            ],
            "metadata": {
                "azdata_cell_guid": "3d7571b6-bee3-4cae-9eae-1ba382cb6b2f",
                "language": "sql",
                "tags": []
            },
            "outputs": [
                {
                    "output_type": "display_data",
                    "data": {
                        "text/html": "(6 rows affected)"
                    },
                    "metadata": {}
                },
                {
                    "output_type": "display_data",
                    "data": {
                        "text/html": "Total execution time: 00:00:00.012"
                    },
                    "metadata": {}
                },
                {
                    "output_type": "execute_result",
                    "execution_count": 32,
                    "data": {
                        "application/vnd.dataresource+json": {
                            "schema": {
                                "fields": [
                                    {
                                        "name": "empSSN"
                                    },
                                    {
                                        "name": "empName"
                                    },
                                    {
                                        "name": "depName"
                                    }
                                ]
                            },
                            "data": [
                                {
                                    "empSSN": "30121050035",
                                    "empName": "Tống Thị Lan Anh",
                                    "depName": "Phòng Phần mềm trong nước"
                                },
                                {
                                    "empSSN": "30121050254",
                                    "empName": "Bùi Thị Thu Hương",
                                    "depName": "Phòng Giải pháp mạng truyền thông"
                                },
                                {
                                    "empSSN": "30121050265",
                                    "empName": "Phạm Thị Ngọc Hảo",
                                    "depName": "Phòng Giải pháp mạng truyền thông"
                                },
                                {
                                    "empSSN": "30121050295",
                                    "empName": "Huỳnh Thị Như Hồng",
                                    "depName": "Phòng Dịch vụ chăm sóc khách hàng"
                                },
                                {
                                    "empSSN": "30121050322",
                                    "empName": "Đỗ Thị Thúy Hùng",
                                    "depName": "Phòng Giải pháp mạng truyền thông"
                                },
                                {
                                    "empSSN": "30121050336",
                                    "empName": "Trương Thanh Hiền",
                                    "depName": "Phòng Dịch vụ chăm sóc khách hàng"
                                }
                            ]
                        },
                        "text/html": "<table><tr><th>empSSN</th><th>empName</th><th>depName</th></tr><tr><td>30121050035</td><td>Tống Thị Lan Anh</td><td>Phòng Phần mềm trong nước</td></tr><tr><td>30121050254</td><td>Bùi Thị Thu Hương</td><td>Phòng Giải pháp mạng truyền thông</td></tr><tr><td>30121050265</td><td>Phạm Thị Ngọc Hảo</td><td>Phòng Giải pháp mạng truyền thông</td></tr><tr><td>30121050295</td><td>Huỳnh Thị Như Hồng</td><td>Phòng Dịch vụ chăm sóc khách hàng</td></tr><tr><td>30121050322</td><td>Đỗ Thị Thúy Hùng</td><td>Phòng Giải pháp mạng truyền thông</td></tr><tr><td>30121050336</td><td>Trương Thanh Hiền</td><td>Phòng Dịch vụ chăm sóc khách hàng</td></tr></table>"
                    },
                    "metadata": {}
                }
            ],
            "execution_count": 32
        },
        {
            "cell_type": "code",
            "source": [
                "--24._Cho biết những nhân viên nào lần thứ hai tham gia dụ án. Thông tin yêu cầu: mã nhân viên, tên nhân viên, tên phòng ban của nhân viên\r\n",
                "select E.empSSN, E.empName, D.depName\r\n",
                "from [FUH_COMPANY].[dbo].[tblEmployee] E\r\n",
                "join [FUH_COMPANY].[dbo].[tblDepartment] D on e.depNum = d.depNum\r\n",
                "join [FUH_COMPANY].[dbo].[tblWorksOn] W on e.empSSN = w.empSSN\r\n",
                "group by e.empSSN, e.empName, d.depName\r\n",
                "having COUNT(w.proNum) = 2;"
            ],
            "metadata": {
                "language": "sql",
                "azdata_cell_guid": "58f35a1e-096e-400c-8861-319095da74d7"
            },
            "outputs": [
                {
                    "output_type": "display_data",
                    "data": {
                        "text/html": "(7 rows affected)"
                    },
                    "metadata": {}
                },
                {
                    "output_type": "display_data",
                    "data": {
                        "text/html": "Total execution time: 00:00:00.027"
                    },
                    "metadata": {}
                },
                {
                    "output_type": "execute_result",
                    "execution_count": 35,
                    "data": {
                        "application/vnd.dataresource+json": {
                            "schema": {
                                "fields": [
                                    {
                                        "name": "empSSN"
                                    },
                                    {
                                        "name": "empName"
                                    },
                                    {
                                        "name": "depName"
                                    }
                                ]
                            },
                            "data": [
                                {
                                    "empSSN": "30121050038",
                                    "empName": "Vũ Thuỵ Hồng Anh",
                                    "depName": "Phòng Phần mềm nước ngoài"
                                },
                                {
                                    "empSSN": "30121050049",
                                    "empName": "Trần Nguyễn Phương Bình",
                                    "depName": "Phòng Phần mềm nước ngoài"
                                },
                                {
                                    "empSSN": "30121050060",
                                    "empName": "Trần Thiện Bảo",
                                    "depName": "Phòng Phần mềm nước ngoài"
                                },
                                {
                                    "empSSN": "30121050142",
                                    "empName": "Nguyễn Hoàng Dũng",
                                    "depName": "Phòng Phần mềm nước ngoài"
                                },
                                {
                                    "empSSN": "30121050158",
                                    "empName": "Lê Hoàng Linh Giang",
                                    "depName": "Phòng Phần mềm nước ngoài"
                                },
                                {
                                    "empSSN": "30121050294",
                                    "empName": "Trịnh Hạnh",
                                    "depName": "Phòng Dịch vụ chăm sóc khách hàng"
                                },
                                {
                                    "empSSN": "30121050982",
                                    "empName": "Hồ Việt Hoà",
                                    "depName": "Phòng Giải pháp mạng truyền thông"
                                }
                            ]
                        },
                        "text/html": "<table><tr><th>empSSN</th><th>empName</th><th>depName</th></tr><tr><td>30121050038</td><td>Vũ Thuỵ Hồng Anh</td><td>Phòng Phần mềm nước ngoài</td></tr><tr><td>30121050049</td><td>Trần Nguyễn Phương Bình</td><td>Phòng Phần mềm nước ngoài</td></tr><tr><td>30121050060</td><td>Trần Thiện Bảo</td><td>Phòng Phần mềm nước ngoài</td></tr><tr><td>30121050142</td><td>Nguyễn Hoàng Dũng</td><td>Phòng Phần mềm nước ngoài</td></tr><tr><td>30121050158</td><td>Lê Hoàng Linh Giang</td><td>Phòng Phần mềm nước ngoài</td></tr><tr><td>30121050294</td><td>Trịnh Hạnh</td><td>Phòng Dịch vụ chăm sóc khách hàng</td></tr><tr><td>30121050982</td><td>Hồ Việt Hoà</td><td>Phòng Giải pháp mạng truyền thông</td></tr></table>"
                    },
                    "metadata": {}
                }
            ],
            "execution_count": 35
        },
        {
            "cell_type": "code",
            "source": [
                "--25. Cho biết những nhân viên nào tham gia tối thiểu hai dụ án. Thông tin yêu cầu: mã nhân viên, tên nhân viên, tên phòng ban của nhân viên_\r\n",
                "select E.empSSN, E.empName, D.depName\r\n",
                "from [FUH_COMPANY].[dbo].[tblEmployee] E\r\n",
                "join [FUH_COMPANY].[dbo].[tblDepartment] D on e.depNum = d.depNum\r\n",
                "join [FUH_COMPANY].[dbo].[tblWorksOn] W on e.empSSN = w.empSSN\r\n",
                "group by e.empSSN, e.empName, d.depName\r\n",
                "having COUNT(w.proNum) >= 2;"
            ],
            "metadata": {
                "azdata_cell_guid": "84da7675-3556-4b64-a538-65bfe05b83e2",
                "language": "sql",
                "tags": []
            },
            "outputs": [
                {
                    "output_type": "display_data",
                    "data": {
                        "text/html": "(9 rows affected)"
                    },
                    "metadata": {}
                },
                {
                    "output_type": "display_data",
                    "data": {
                        "text/html": "Total execution time: 00:00:00.019"
                    },
                    "metadata": {}
                },
                {
                    "output_type": "execute_result",
                    "execution_count": 36,
                    "data": {
                        "application/vnd.dataresource+json": {
                            "schema": {
                                "fields": [
                                    {
                                        "name": "empSSN"
                                    },
                                    {
                                        "name": "empName"
                                    },
                                    {
                                        "name": "depName"
                                    }
                                ]
                            },
                            "data": [
                                {
                                    "empSSN": "30121050027",
                                    "empName": "Nguyễn Thúy Quỳnh Anh",
                                    "depName": "Phòng Phần mềm trong nước"
                                },
                                {
                                    "empSSN": "30121050037",
                                    "empName": "Võ Việt Anh",
                                    "depName": "Phòng Phần mềm trong nước"
                                },
                                {
                                    "empSSN": "30121050038",
                                    "empName": "Vũ Thuỵ Hồng Anh",
                                    "depName": "Phòng Phần mềm nước ngoài"
                                },
                                {
                                    "empSSN": "30121050049",
                                    "empName": "Trần Nguyễn Phương Bình",
                                    "depName": "Phòng Phần mềm nước ngoài"
                                },
                                {
                                    "empSSN": "30121050060",
                                    "empName": "Trần Thiện Bảo",
                                    "depName": "Phòng Phần mềm nước ngoài"
                                },
                                {
                                    "empSSN": "30121050142",
                                    "empName": "Nguyễn Hoàng Dũng",
                                    "depName": "Phòng Phần mềm nước ngoài"
                                },
                                {
                                    "empSSN": "30121050158",
                                    "empName": "Lê Hoàng Linh Giang",
                                    "depName": "Phòng Phần mềm nước ngoài"
                                },
                                {
                                    "empSSN": "30121050294",
                                    "empName": "Trịnh Hạnh",
                                    "depName": "Phòng Dịch vụ chăm sóc khách hàng"
                                },
                                {
                                    "empSSN": "30121050982",
                                    "empName": "Hồ Việt Hoà",
                                    "depName": "Phòng Giải pháp mạng truyền thông"
                                }
                            ]
                        },
                        "text/html": "<table><tr><th>empSSN</th><th>empName</th><th>depName</th></tr><tr><td>30121050027</td><td>Nguyễn Thúy Quỳnh Anh</td><td>Phòng Phần mềm trong nước</td></tr><tr><td>30121050037</td><td>Võ Việt Anh</td><td>Phòng Phần mềm trong nước</td></tr><tr><td>30121050038</td><td>Vũ Thuỵ Hồng Anh</td><td>Phòng Phần mềm nước ngoài</td></tr><tr><td>30121050049</td><td>Trần Nguyễn Phương Bình</td><td>Phòng Phần mềm nước ngoài</td></tr><tr><td>30121050060</td><td>Trần Thiện Bảo</td><td>Phòng Phần mềm nước ngoài</td></tr><tr><td>30121050142</td><td>Nguyễn Hoàng Dũng</td><td>Phòng Phần mềm nước ngoài</td></tr><tr><td>30121050158</td><td>Lê Hoàng Linh Giang</td><td>Phòng Phần mềm nước ngoài</td></tr><tr><td>30121050294</td><td>Trịnh Hạnh</td><td>Phòng Dịch vụ chăm sóc khách hàng</td></tr><tr><td>30121050982</td><td>Hồ Việt Hoà</td><td>Phòng Giải pháp mạng truyền thông</td></tr></table>"
                    },
                    "metadata": {}
                }
            ],
            "execution_count": 36
        },
        {
            "cell_type": "code",
            "source": [
                "--26. Cho biết số lượng thành viên của mỗi dự án. Thông tin yêu cầu: mã dự án, tên dự án, số lượng thành viên_\r\n",
                "select w.proNum, p.proName, count(w.empSSN) as member_count \r\n",
                "from [FUH_COMPANY].[dbo].[tblWorksOn] W\r\n",
                "join [FUH_COMPANY].[dbo].[tblProject] P on w.proNum = p.proNum\r\n",
                "group by w.proNum, p.proName;\r\n",
                ""
            ],
            "metadata": {
                "language": "sql",
                "azdata_cell_guid": "d5884b1a-e6bc-463d-a2bf-5c2039f8ac4c"
            },
            "outputs": [
                {
                    "output_type": "display_data",
                    "data": {
                        "text/html": "(5 rows affected)"
                    },
                    "metadata": {}
                },
                {
                    "output_type": "display_data",
                    "data": {
                        "text/html": "Total execution time: 00:00:00.017"
                    },
                    "metadata": {}
                },
                {
                    "output_type": "execute_result",
                    "execution_count": 37,
                    "data": {
                        "application/vnd.dataresource+json": {
                            "schema": {
                                "fields": [
                                    {
                                        "name": "proNum"
                                    },
                                    {
                                        "name": "proName"
                                    },
                                    {
                                        "name": "member_count"
                                    }
                                ]
                            },
                            "data": [
                                {
                                    "proNum": "1",
                                    "proName": "ProjectA",
                                    "member_count": "6"
                                },
                                {
                                    "proNum": "2",
                                    "proName": "ProjectB",
                                    "member_count": "8"
                                },
                                {
                                    "proNum": "3",
                                    "proName": "ProjectC",
                                    "member_count": "6"
                                },
                                {
                                    "proNum": "4",
                                    "proName": "ProjectD",
                                    "member_count": "3"
                                },
                                {
                                    "proNum": "5",
                                    "proName": "ProjectE",
                                    "member_count": "4"
                                }
                            ]
                        },
                        "text/html": "<table><tr><th>proNum</th><th>proName</th><th>member_count</th></tr><tr><td>1</td><td>ProjectA</td><td>6</td></tr><tr><td>2</td><td>ProjectB</td><td>8</td></tr><tr><td>3</td><td>ProjectC</td><td>6</td></tr><tr><td>4</td><td>ProjectD</td><td>3</td></tr><tr><td>5</td><td>ProjectE</td><td>4</td></tr></table>"
                    },
                    "metadata": {}
                }
            ],
            "execution_count": 37
        },
        {
            "cell_type": "code",
            "source": [
                "--27. _Cho biết tổng số giờ làm của mỗi dự án. Thông tin yêu cầu: mã dự án, tên dự án, tổng số giờ làm\r\n",
                "select w.proNum, p.proName, sum(w.workHours) as total_hours \r\n",
                "from [FUH_COMPANY].[dbo].[tblWorksOn] W\r\n",
                "join [FUH_COMPANY].[dbo].[tblProject] P on w.proNum = p.proNum\r\n",
                "group by w.proNum, p.proName;"
            ],
            "metadata": {
                "azdata_cell_guid": "1eca36b2-ba77-4fa4-ac2b-237f079c32bf",
                "language": "sql"
            },
            "outputs": [
                {
                    "output_type": "display_data",
                    "data": {
                        "text/html": "(5 rows affected)"
                    },
                    "metadata": {}
                },
                {
                    "output_type": "display_data",
                    "data": {
                        "text/html": "Total execution time: 00:00:00.018"
                    },
                    "metadata": {}
                },
                {
                    "output_type": "execute_result",
                    "execution_count": 38,
                    "data": {
                        "application/vnd.dataresource+json": {
                            "schema": {
                                "fields": [
                                    {
                                        "name": "proNum"
                                    },
                                    {
                                        "name": "proName"
                                    },
                                    {
                                        "name": "total_hours"
                                    }
                                ]
                            },
                            "data": [
                                {
                                    "proNum": "1",
                                    "proName": "ProjectA",
                                    "total_hours": "144"
                                },
                                {
                                    "proNum": "2",
                                    "proName": "ProjectB",
                                    "total_hours": "133"
                                },
                                {
                                    "proNum": "3",
                                    "proName": "ProjectC",
                                    "total_hours": "74"
                                },
                                {
                                    "proNum": "4",
                                    "proName": "ProjectD",
                                    "total_hours": "48"
                                },
                                {
                                    "proNum": "5",
                                    "proName": "ProjectE",
                                    "total_hours": "50"
                                }
                            ]
                        },
                        "text/html": "<table><tr><th>proNum</th><th>proName</th><th>total_hours</th></tr><tr><td>1</td><td>ProjectA</td><td>144</td></tr><tr><td>2</td><td>ProjectB</td><td>133</td></tr><tr><td>3</td><td>ProjectC</td><td>74</td></tr><tr><td>4</td><td>ProjectD</td><td>48</td></tr><tr><td>5</td><td>ProjectE</td><td>50</td></tr></table>"
                    },
                    "metadata": {}
                }
            ],
            "execution_count": 38
        },
        {
            "cell_type": "code",
            "source": [
                "--28._Cho biết dự án nào có số lượng thành viên là ít nhất. Thông tin yêu cầu: mã dự án, tên dự án, số lượng thành viên_\r\n",
                "select top(1) w.proNum, p.proName, count(DISTINCT w.empSSN) as member_count\r\n",
                "from [FUH_COMPANY].[dbo].[tblWorksOn] W\r\n",
                "join [FUH_COMPANY].[dbo].[tblProject] P on w.proNum = p.proNum\r\n",
                "group by w.proNum, p.proName\r\n",
                "order by member_count"
            ],
            "metadata": {
                "azdata_cell_guid": "442397af-9f34-4ed7-889f-372f121eeb62",
                "language": "sql",
                "tags": []
            },
            "outputs": [
                {
                    "output_type": "display_data",
                    "data": {
                        "text/html": "(1 row affected)"
                    },
                    "metadata": {}
                },
                {
                    "output_type": "display_data",
                    "data": {
                        "text/html": "Total execution time: 00:00:00.006"
                    },
                    "metadata": {}
                },
                {
                    "output_type": "execute_result",
                    "metadata": {},
                    "execution_count": 5,
                    "data": {
                        "application/vnd.dataresource+json": {
                            "schema": {
                                "fields": [
                                    {
                                        "name": "proNum"
                                    },
                                    {
                                        "name": "proName"
                                    },
                                    {
                                        "name": "member_count"
                                    }
                                ]
                            },
                            "data": [
                                {
                                    "proNum": "4",
                                    "proName": "ProjectD",
                                    "member_count": "3"
                                }
                            ]
                        },
                        "text/html": [
                            "<table>",
                            "<tr><th>proNum</th><th>proName</th><th>member_count</th></tr>",
                            "<tr><td>4</td><td>ProjectD</td><td>3</td></tr>",
                            "</table>"
                        ]
                    }
                }
            ],
            "execution_count": 5
        },
        {
            "cell_type": "code",
            "source": [
                "--29._Cho biết dự án nào có số lượng thành viên là nhiều nhất. Thông tin yêu cầu: mã dự án, tên dự án, số lượng thành viên_\r\n",
                "select top(1) w.proNum, p.proName, count(DISTINCT w.empSSN) as member_count\r\n",
                "from [FUH_COMPANY].[dbo].[tblWorksOn] W\r\n",
                "join [FUH_COMPANY].[dbo].[tblProject] P on w.proNum = p.proNum\r\n",
                "group by w.proNum, p.proName\r\n",
                "order by member_count desc;"
            ],
            "metadata": {
                "azdata_cell_guid": "e14d7d5f-a84a-4ffe-a14d-5fa58e00a506",
                "language": "sql"
            },
            "outputs": [
                {
                    "output_type": "display_data",
                    "data": {
                        "text/html": "(1 row affected)"
                    },
                    "metadata": {}
                },
                {
                    "output_type": "display_data",
                    "data": {
                        "text/html": "Total execution time: 00:00:00.011"
                    },
                    "metadata": {}
                },
                {
                    "output_type": "execute_result",
                    "metadata": {},
                    "execution_count": 6,
                    "data": {
                        "application/vnd.dataresource+json": {
                            "schema": {
                                "fields": [
                                    {
                                        "name": "proNum"
                                    },
                                    {
                                        "name": "proName"
                                    },
                                    {
                                        "name": "member_count"
                                    }
                                ]
                            },
                            "data": [
                                {
                                    "proNum": "2",
                                    "proName": "ProjectB",
                                    "member_count": "8"
                                }
                            ]
                        },
                        "text/html": [
                            "<table>",
                            "<tr><th>proNum</th><th>proName</th><th>member_count</th></tr>",
                            "<tr><td>2</td><td>ProjectB</td><td>8</td></tr>",
                            "</table>"
                        ]
                    }
                }
            ],
            "execution_count": 6
        },
        {
            "cell_type": "code",
            "source": [
                "--30.Cho biết dự án nào có tổng số giờ làm là ít nhất. Thông tin yêu cầu: mã dự án, tên dự án, tổng số giờ làm_\r\n",
                "select top(1) w.proNum, p.proName, sum(w.workHours) as total_hours\r\n",
                "from [FUH_COMPANY].[dbo].[tblWorksOn] W\r\n",
                "join [FUH_COMPANY].[dbo].[tblProject] P on w.proNum = p.proNum\r\n",
                "group by w.proNum, p.proName\r\n",
                "order by total_hours asc;"
            ],
            "metadata": {
                "azdata_cell_guid": "f968b5b1-6b65-48f9-86db-03a1ba72bb72",
                "language": "sql"
            },
            "outputs": [
                {
                    "output_type": "display_data",
                    "data": {
                        "text/html": "(1 row affected)"
                    },
                    "metadata": {}
                },
                {
                    "output_type": "display_data",
                    "data": {
                        "text/html": "Total execution time: 00:00:00.042"
                    },
                    "metadata": {}
                },
                {
                    "output_type": "execute_result",
                    "metadata": {},
                    "execution_count": 7,
                    "data": {
                        "application/vnd.dataresource+json": {
                            "schema": {
                                "fields": [
                                    {
                                        "name": "proNum"
                                    },
                                    {
                                        "name": "proName"
                                    },
                                    {
                                        "name": "total_hours"
                                    }
                                ]
                            },
                            "data": [
                                {
                                    "proNum": "4",
                                    "proName": "ProjectD",
                                    "total_hours": "48"
                                }
                            ]
                        },
                        "text/html": [
                            "<table>",
                            "<tr><th>proNum</th><th>proName</th><th>total_hours</th></tr>",
                            "<tr><td>4</td><td>ProjectD</td><td>48</td></tr>",
                            "</table>"
                        ]
                    }
                }
            ],
            "execution_count": 7
        },
        {
            "cell_type": "code",
            "source": [
                "--31._Cho biết dự án nào có tổng số giờ làm là nhiều nhất. Thông tin yêu cầu: mã dự án, tên dự án, tổng số giờ làm_\r\n",
                "select top(1) w.proNum, p.proName, sum(w.workHours) as total_hours\r\n",
                "from [FUH_COMPANY].[dbo].[tblWorksOn] W\r\n",
                "join [FUH_COMPANY].[dbo].[tblProject] P on w.proNum = p.proNum\r\n",
                "group by w.proNum, p.proName\r\n",
                "order by total_hours desc;"
            ],
            "metadata": {
                "azdata_cell_guid": "5d4dfac7-b5f3-41f3-a7c5-1f39cbf73c4c",
                "language": "sql"
            },
            "outputs": [
                {
                    "output_type": "display_data",
                    "data": {
                        "text/html": "(1 row affected)"
                    },
                    "metadata": {}
                },
                {
                    "output_type": "display_data",
                    "data": {
                        "text/html": "Total execution time: 00:00:00.020"
                    },
                    "metadata": {}
                },
                {
                    "output_type": "execute_result",
                    "metadata": {},
                    "execution_count": 8,
                    "data": {
                        "application/vnd.dataresource+json": {
                            "schema": {
                                "fields": [
                                    {
                                        "name": "proNum"
                                    },
                                    {
                                        "name": "proName"
                                    },
                                    {
                                        "name": "total_hours"
                                    }
                                ]
                            },
                            "data": [
                                {
                                    "proNum": "1",
                                    "proName": "ProjectA",
                                    "total_hours": "144"
                                }
                            ]
                        },
                        "text/html": [
                            "<table>",
                            "<tr><th>proNum</th><th>proName</th><th>total_hours</th></tr>",
                            "<tr><td>1</td><td>ProjectA</td><td>144</td></tr>",
                            "</table>"
                        ]
                    }
                }
            ],
            "execution_count": 8
        },
        {
            "cell_type": "code",
            "source": [
                "--32._Cho biết số lượng phòng ban làm việc theo mỗi nơi làm việc. Thông tin yêu cầu: tên nơi làm việc, số lượng phòng ban_\r\n",
                "select l.locName, count(d.depName) as count_deparments\r\n",
                "from [FUH_COMPANY].[dbo].[tblDepLocation] DL\r\n",
                "join [FUH_COMPANY].[dbo].[tblDepartment] D on dL.depNum = D.depNum\r\n",
                "join [FUH_COMPANY].[dbo].tblLocation l on l.locNum = dl.locNum\r\n",
                "group by l.locName;"
            ],
            "metadata": {
                "azdata_cell_guid": "ffe0b4a5-c0a0-4933-906c-2ee613633efa",
                "language": "sql"
            },
            "outputs": [
                {
                    "output_type": "display_data",
                    "data": {
                        "text/html": "(5 rows affected)"
                    },
                    "metadata": {}
                },
                {
                    "output_type": "display_data",
                    "data": {
                        "text/html": "Total execution time: 00:00:00.005"
                    },
                    "metadata": {}
                },
                {
                    "output_type": "execute_result",
                    "metadata": {},
                    "execution_count": 12,
                    "data": {
                        "application/vnd.dataresource+json": {
                            "schema": {
                                "fields": [
                                    {
                                        "name": "locName"
                                    },
                                    {
                                        "name": "count_deparments"
                                    }
                                ]
                            },
                            "data": [
                                {
                                    "locName": "TP Đà Nẵng",
                                    "count_deparments": "2"
                                },
                                {
                                    "locName": "TP Hà Nội",
                                    "count_deparments": "5"
                                },
                                {
                                    "locName": "TP Hải Phòng",
                                    "count_deparments": "3"
                                },
                                {
                                    "locName": "TP Hồ Chí Minh",
                                    "count_deparments": "2"
                                },
                                {
                                    "locName": "TP Huế",
                                    "count_deparments": "3"
                                }
                            ]
                        },
                        "text/html": [
                            "<table>",
                            "<tr><th>locName</th><th>count_deparments</th></tr>",
                            "<tr><td>TP Đà Nẵng</td><td>2</td></tr>",
                            "<tr><td>TP Hà Nội</td><td>5</td></tr>",
                            "<tr><td>TP Hải Phòng</td><td>3</td></tr>",
                            "<tr><td>TP Hồ Chí Minh</td><td>2</td></tr>",
                            "<tr><td>TP Huế</td><td>3</td></tr>",
                            "</table>"
                        ]
                    }
                }
            ],
            "execution_count": 12
        },
        {
            "cell_type": "code",
            "source": [
                "--33.  _Cho biết số lượng chỗ làm việc theo mỗi phòng ban. Thông tin yêu cầu: mã phòng ban, tên phòng ban, số lượng chỗ làm việc_\r\n",
                "select d.depNum, d.depName, count(l.locName) as count_location\r\n",
                "from [FUH_COMPANY].[dbo].[tblDepLocation] DL\r\n",
                "join [FUH_COMPANY].[dbo].[tblDepartment] D on dL.depNum = D.depNum\r\n",
                "join [FUH_COMPANY].[dbo].tblLocation l on l.locNum = dl.locNum\r\n",
                "group by d.depNum, d.depName;"
            ],
            "metadata": {
                "azdata_cell_guid": "d73c5dfb-5617-45a3-bcc1-581fbb49408e",
                "language": "sql"
            },
            "outputs": [
                {
                    "output_type": "display_data",
                    "data": {
                        "text/html": "(5 rows affected)"
                    },
                    "metadata": {}
                },
                {
                    "output_type": "display_data",
                    "data": {
                        "text/html": "Total execution time: 00:00:00.006"
                    },
                    "metadata": {}
                },
                {
                    "output_type": "execute_result",
                    "metadata": {},
                    "execution_count": 14,
                    "data": {
                        "application/vnd.dataresource+json": {
                            "schema": {
                                "fields": [
                                    {
                                        "name": "depNum"
                                    },
                                    {
                                        "name": "depName"
                                    },
                                    {
                                        "name": "count_location"
                                    }
                                ]
                            },
                            "data": [
                                {
                                    "depNum": "1",
                                    "depName": "Phòng Phần mềm trong nước",
                                    "count_location": "4"
                                },
                                {
                                    "depNum": "2",
                                    "depName": "Phòng Phần mềm nước ngoài",
                                    "count_location": "3"
                                },
                                {
                                    "depNum": "3",
                                    "depName": "Phòng Giải pháp mạng truyền thông",
                                    "count_location": "2"
                                },
                                {
                                    "depNum": "4",
                                    "depName": "Phòng Dịch vụ chăm sóc khách hàng",
                                    "count_location": "3"
                                },
                                {
                                    "depNum": "5",
                                    "depName": "Phòng Nghiên cứu và phát triển",
                                    "count_location": "3"
                                }
                            ]
                        },
                        "text/html": [
                            "<table>",
                            "<tr><th>depNum</th><th>depName</th><th>count_location</th></tr>",
                            "<tr><td>1</td><td>Phòng Phần mềm trong nước</td><td>4</td></tr>",
                            "<tr><td>2</td><td>Phòng Phần mềm nước ngoài</td><td>3</td></tr>",
                            "<tr><td>3</td><td>Phòng Giải pháp mạng truyền thông</td><td>2</td></tr>",
                            "<tr><td>4</td><td>Phòng Dịch vụ chăm sóc khách hàng</td><td>3</td></tr>",
                            "<tr><td>5</td><td>Phòng Nghiên cứu và phát triển</td><td>3</td></tr>",
                            "</table>"
                        ]
                    }
                }
            ],
            "execution_count": 14
        },
        {
            "cell_type": "code",
            "source": [
                "--34. _Cho biết phòng ban nào có nhiều chỗ làm việc nhất. Thông tin yêu cầu: mã phòng ban, tên phòng ban, số lượng chỗ làm việc_\r\n",
                "select top(1) d.depNum, d.depName, count(l.locName) as count_location\r\n",
                "from [FUH_COMPANY].[dbo].[tblDepLocation] DL\r\n",
                "join [FUH_COMPANY].[dbo].[tblDepartment] D on dL.depNum = D.depNum\r\n",
                "join [FUH_COMPANY].[dbo].tblLocation l on l.locNum = dl.locNum\r\n",
                "group by d.depNum, d.depName\r\n",
                "order by count_location desc;"
            ],
            "metadata": {
                "azdata_cell_guid": "3189daa6-59af-4ae0-967c-8a5295d9328c",
                "language": "sql"
            },
            "outputs": [
                {
                    "output_type": "display_data",
                    "data": {
                        "text/html": "(1 row affected)"
                    },
                    "metadata": {}
                },
                {
                    "output_type": "display_data",
                    "data": {
                        "text/html": "Total execution time: 00:00:00.082"
                    },
                    "metadata": {}
                },
                {
                    "output_type": "execute_result",
                    "metadata": {},
                    "execution_count": 15,
                    "data": {
                        "application/vnd.dataresource+json": {
                            "schema": {
                                "fields": [
                                    {
                                        "name": "depNum"
                                    },
                                    {
                                        "name": "depName"
                                    },
                                    {
                                        "name": "count_location"
                                    }
                                ]
                            },
                            "data": [
                                {
                                    "depNum": "1",
                                    "depName": "Phòng Phần mềm trong nước",
                                    "count_location": "4"
                                }
                            ]
                        },
                        "text/html": [
                            "<table>",
                            "<tr><th>depNum</th><th>depName</th><th>count_location</th></tr>",
                            "<tr><td>1</td><td>Phòng Phần mềm trong nước</td><td>4</td></tr>",
                            "</table>"
                        ]
                    }
                }
            ],
            "execution_count": 15
        },
        {
            "cell_type": "code",
            "source": [
                "--35.  _Cho biết phòng ban nào có it chỗ làm việc nhất. Thông tin yêu cầu: mã phòng ban, tên phòng ban, số lượng chỗ làm việc_\r\n",
                "select top(1) d.depNum, d.depName, count(l.locName) as count_location\r\n",
                "from [FUH_COMPANY].[dbo].[tblDepLocation] DL\r\n",
                "join [FUH_COMPANY].[dbo].[tblDepartment] D on dL.depNum = D.depNum\r\n",
                "join [FUH_COMPANY].[dbo].tblLocation l on l.locNum = dl.locNum\r\n",
                "group by d.depNum, d.depName\r\n",
                "order by count_location asc;"
            ],
            "metadata": {
                "azdata_cell_guid": "f7c0772f-a019-49fc-9a2c-9ddf6606c245",
                "language": "sql"
            },
            "outputs": [
                {
                    "output_type": "display_data",
                    "data": {
                        "text/html": "(1 row affected)"
                    },
                    "metadata": {}
                },
                {
                    "output_type": "display_data",
                    "data": {
                        "text/html": "Total execution time: 00:00:00.014"
                    },
                    "metadata": {}
                },
                {
                    "output_type": "execute_result",
                    "metadata": {},
                    "execution_count": 16,
                    "data": {
                        "application/vnd.dataresource+json": {
                            "schema": {
                                "fields": [
                                    {
                                        "name": "depNum"
                                    },
                                    {
                                        "name": "depName"
                                    },
                                    {
                                        "name": "count_location"
                                    }
                                ]
                            },
                            "data": [
                                {
                                    "depNum": "3",
                                    "depName": "Phòng Giải pháp mạng truyền thông",
                                    "count_location": "2"
                                }
                            ]
                        },
                        "text/html": [
                            "<table>",
                            "<tr><th>depNum</th><th>depName</th><th>count_location</th></tr>",
                            "<tr><td>3</td><td>Phòng Giải pháp mạng truyền thông</td><td>2</td></tr>",
                            "</table>"
                        ]
                    }
                }
            ],
            "execution_count": 16
        },
        {
            "cell_type": "code",
            "source": [
                "--36._Cho biết địa điểm nào có nhiều phòng ban làm việc nhất. Thông tin yêu cầu: tên nơi làm việc, số lượng phòng ban_\r\n",
                "select top(1) l.locName, count(d.depName) as count_deparments\r\n",
                "from [FUH_COMPANY].[dbo].[tblDepLocation] DL\r\n",
                "join [FUH_COMPANY].[dbo].[tblDepartment] D on dL.depNum = D.depNum\r\n",
                "join [FUH_COMPANY].[dbo].tblLocation l on l.locNum = dl.locNum\r\n",
                "group by l.locName\r\n",
                "order by count_deparments desc;\r\n",
                ""
            ],
            "metadata": {
                "azdata_cell_guid": "3b1883b4-18ab-492c-9332-c451911a59b8",
                "language": "sql"
            },
            "outputs": [
                {
                    "output_type": "display_data",
                    "data": {
                        "text/html": "(1 row affected)"
                    },
                    "metadata": {}
                },
                {
                    "output_type": "display_data",
                    "data": {
                        "text/html": "Total execution time: 00:00:00.016"
                    },
                    "metadata": {}
                },
                {
                    "output_type": "execute_result",
                    "metadata": {},
                    "execution_count": 17,
                    "data": {
                        "application/vnd.dataresource+json": {
                            "schema": {
                                "fields": [
                                    {
                                        "name": "locName"
                                    },
                                    {
                                        "name": "count_deparments"
                                    }
                                ]
                            },
                            "data": [
                                {
                                    "locName": "TP Hà Nội",
                                    "count_deparments": "5"
                                }
                            ]
                        },
                        "text/html": [
                            "<table>",
                            "<tr><th>locName</th><th>count_deparments</th></tr>",
                            "<tr><td>TP Hà Nội</td><td>5</td></tr>",
                            "</table>"
                        ]
                    }
                }
            ],
            "execution_count": 17
        },
        {
            "cell_type": "code",
            "source": [
                "-- 37.  _Cho biết địa điểm nào có ít phòng ban làm việc nhất. Thông tin yêu cầu: tên nơi làm việc, số lượng phòng ban_\r\n",
                "select top(1) l.locName, count(d.depName) as count_deparments\r\n",
                "from [FUH_COMPANY].[dbo].[tblDepLocation] DL\r\n",
                "join [FUH_COMPANY].[dbo].[tblDepartment] D on dL.depNum = D.depNum\r\n",
                "join [FUH_COMPANY].[dbo].tblLocation l on l.locNum = dl.locNum\r\n",
                "group by l.locName\r\n",
                "order by count_deparments asc;"
            ],
            "metadata": {
                "azdata_cell_guid": "cdf8f008-934c-429f-87d9-0be08987c735",
                "language": "sql"
            },
            "outputs": [
                {
                    "output_type": "display_data",
                    "data": {
                        "text/html": "(1 row affected)"
                    },
                    "metadata": {}
                },
                {
                    "output_type": "display_data",
                    "data": {
                        "text/html": "Total execution time: 00:00:00.019"
                    },
                    "metadata": {}
                },
                {
                    "output_type": "execute_result",
                    "metadata": {},
                    "execution_count": 18,
                    "data": {
                        "application/vnd.dataresource+json": {
                            "schema": {
                                "fields": [
                                    {
                                        "name": "locName"
                                    },
                                    {
                                        "name": "count_deparments"
                                    }
                                ]
                            },
                            "data": [
                                {
                                    "locName": "TP Đà Nẵng",
                                    "count_deparments": "2"
                                }
                            ]
                        },
                        "text/html": [
                            "<table>",
                            "<tr><th>locName</th><th>count_deparments</th></tr>",
                            "<tr><td>TP Đà Nẵng</td><td>2</td></tr>",
                            "</table>"
                        ]
                    }
                }
            ],
            "execution_count": 18
        },
        {
            "cell_type": "code",
            "source": [
                "--38.Cho biết nhân viên nào có nhiều người phụ thuộc nhất. Thông tin yêu cầu: mã số, họ tên nhân viên, số lượng người phụ thuộc\r\n",
                "select e.empSSN, e.empName, COUNT(d.depName) as count_dependent\r\n",
                "from [FUH_COMPANY].dbo.tblEmployee E\r\n",
                "join FUH_COMPANY.dbo.tblDependent D on E.empSSN = D.empSSN\r\n",
                "group by e.empSSN, e.empName;"
            ],
            "metadata": {
                "azdata_cell_guid": "44662c09-f76a-471c-aea8-45b3f27224b9",
                "language": "sql"
            },
            "outputs": [
                {
                    "output_type": "display_data",
                    "data": {
                        "text/html": "(13 rows affected)"
                    },
                    "metadata": {}
                },
                {
                    "output_type": "display_data",
                    "data": {
                        "text/html": "Total execution time: 00:00:00.010"
                    },
                    "metadata": {}
                },
                {
                    "output_type": "execute_result",
                    "metadata": {},
                    "execution_count": 20,
                    "data": {
                        "application/vnd.dataresource+json": {
                            "schema": {
                                "fields": [
                                    {
                                        "name": "empSSN"
                                    },
                                    {
                                        "name": "empName"
                                    },
                                    {
                                        "name": "count_dependent"
                                    }
                                ]
                            },
                            "data": [
                                {
                                    "empSSN": "30121050004",
                                    "empName": "Mai Duy An",
                                    "count_dependent": "1"
                                },
                                {
                                    "empSSN": "30121050015",
                                    "empName": "Huỳnh Mai Anh",
                                    "count_dependent": "1"
                                },
                                {
                                    "empSSN": "30121050027",
                                    "empName": "Nguyễn Thúy Quỳnh Anh",
                                    "count_dependent": "1"
                                },
                                {
                                    "empSSN": "30121050035",
                                    "empName": "Tống Thị Lan Anh",
                                    "count_dependent": "1"
                                },
                                {
                                    "empSSN": "30121050037",
                                    "empName": "Võ Việt Anh",
                                    "count_dependent": "1"
                                },
                                {
                                    "empSSN": "30121050038",
                                    "empName": "Vũ Thuỵ Hồng Anh",
                                    "count_dependent": "1"
                                },
                                {
                                    "empSSN": "30121050049",
                                    "empName": "Trần Nguyễn Phương Bình",
                                    "count_dependent": "1"
                                },
                                {
                                    "empSSN": "30121050060",
                                    "empName": "Trần Thiện Bảo",
                                    "count_dependent": "1"
                                },
                                {
                                    "empSSN": "30121050142",
                                    "empName": "Nguyễn Hoàng Dũng",
                                    "count_dependent": "1"
                                },
                                {
                                    "empSSN": "30121050158",
                                    "empName": "Lê Hoàng Linh Giang",
                                    "count_dependent": "1"
                                },
                                {
                                    "empSSN": "30121050180",
                                    "empName": "Trần Ngọc Như Hằng",
                                    "count_dependent": "1"
                                },
                                {
                                    "empSSN": "30121050184",
                                    "empName": "Nguyễn Thị Minh Hưng",
                                    "count_dependent": "1"
                                },
                                {
                                    "empSSN": "30121050254",
                                    "empName": "Bùi Thị Thu Hương",
                                    "count_dependent": "1"
                                }
                            ]
                        },
                        "text/html": [
                            "<table>",
                            "<tr><th>empSSN</th><th>empName</th><th>count_dependent</th></tr>",
                            "<tr><td>30121050004</td><td>Mai Duy An</td><td>1</td></tr>",
                            "<tr><td>30121050015</td><td>Huỳnh Mai Anh</td><td>1</td></tr>",
                            "<tr><td>30121050027</td><td>Nguyễn Thúy Quỳnh Anh</td><td>1</td></tr>",
                            "<tr><td>30121050035</td><td>Tống Thị Lan Anh</td><td>1</td></tr>",
                            "<tr><td>30121050037</td><td>Võ Việt Anh</td><td>1</td></tr>",
                            "<tr><td>30121050038</td><td>Vũ Thuỵ Hồng Anh</td><td>1</td></tr>",
                            "<tr><td>30121050049</td><td>Trần Nguyễn Phương Bình</td><td>1</td></tr>",
                            "<tr><td>30121050060</td><td>Trần Thiện Bảo</td><td>1</td></tr>",
                            "<tr><td>30121050142</td><td>Nguyễn Hoàng Dũng</td><td>1</td></tr>",
                            "<tr><td>30121050158</td><td>Lê Hoàng Linh Giang</td><td>1</td></tr>",
                            "<tr><td>30121050180</td><td>Trần Ngọc Như Hằng</td><td>1</td></tr>",
                            "<tr><td>30121050184</td><td>Nguyễn Thị Minh Hưng</td><td>1</td></tr>",
                            "<tr><td>30121050254</td><td>Bùi Thị Thu Hương</td><td>1</td></tr>",
                            "</table>"
                        ]
                    }
                }
            ],
            "execution_count": 20
        },
        {
            "cell_type": "code",
            "source": [
                "--39.Cho biết nhân viên nào có ít người phụ thuộc nhất. Thông tin yêu cầu: mã số, họ tên nhân viên, số lượng người phụ thuộc\r\n",
                "select top(1) e.empSSN, e.empName, COUNT(d.depName) as count_dependent\r\n",
                "from [FUH_COMPANY].dbo.tblEmployee E\r\n",
                "join FUH_COMPANY.dbo.tblDependent D on E.empSSN = D.empSSN\r\n",
                "group by e.empSSN, e.empName\r\n",
                "order by count_dependent asc"
            ],
            "metadata": {
                "azdata_cell_guid": "108993b3-9599-469f-8ba4-cb4e1b2dbffb",
                "language": "sql"
            },
            "outputs": [
                {
                    "output_type": "display_data",
                    "data": {
                        "text/html": "(1 row affected)"
                    },
                    "metadata": {}
                },
                {
                    "output_type": "display_data",
                    "data": {
                        "text/html": "Total execution time: 00:00:00.011"
                    },
                    "metadata": {}
                },
                {
                    "output_type": "execute_result",
                    "metadata": {},
                    "execution_count": 21,
                    "data": {
                        "application/vnd.dataresource+json": {
                            "schema": {
                                "fields": [
                                    {
                                        "name": "empSSN"
                                    },
                                    {
                                        "name": "empName"
                                    },
                                    {
                                        "name": "count_dependent"
                                    }
                                ]
                            },
                            "data": [
                                {
                                    "empSSN": "30121050015",
                                    "empName": "Huỳnh Mai Anh",
                                    "count_dependent": "1"
                                }
                            ]
                        },
                        "text/html": [
                            "<table>",
                            "<tr><th>empSSN</th><th>empName</th><th>count_dependent</th></tr>",
                            "<tr><td>30121050015</td><td>Huỳnh Mai Anh</td><td>1</td></tr>",
                            "</table>"
                        ]
                    }
                }
            ],
            "execution_count": 21
        },
        {
            "cell_type": "code",
            "source": [
                "--40.Cho biết nhân viên nào không có người phụ thuộc. Thông tin yêu cầu: mã số nhân viên, họ tên nhân viên, tên phòng ban của nhân viên\r\n",
                "SELECT E.empName, E.empName, D.depName\r\n",
                "FROM tblEmployee E\r\n",
                "JOIN tblDepartment D ON E.depNum = D.depNum\r\n",
                "WHERE E.empSSN NOT IN (\r\n",
                "    SELECT DISTINCT empSSN\r\n",
                "    FROM tblDependent\r\n",
                ");\r\n",
                ""
            ],
            "metadata": {
                "language": "sql",
                "azdata_cell_guid": "32205822-de20-4ce8-9e9d-b06efebe2d54"
            },
            "outputs": [
                {
                    "output_type": "display_data",
                    "data": {
                        "text/html": "(8 rows affected)"
                    },
                    "metadata": {}
                },
                {
                    "output_type": "display_data",
                    "data": {
                        "text/html": "Total execution time: 00:00:00.016"
                    },
                    "metadata": {}
                },
                {
                    "output_type": "execute_result",
                    "metadata": {},
                    "execution_count": 30,
                    "data": {
                        "application/vnd.dataresource+json": {
                            "schema": {
                                "fields": [
                                    {
                                        "name": "empName"
                                    },
                                    {
                                        "name": "empName"
                                    },
                                    {
                                        "name": "depName"
                                    }
                                ]
                            },
                            "data": [
                                {
                                    "empName": "Phạm Thị Ngọc Hảo",
                                    "depName": "Phòng Giải pháp mạng truyền thông"
                                },
                                {
                                    "empName": "Trịnh Hạnh",
                                    "depName": "Phòng Dịch vụ chăm sóc khách hàng"
                                },
                                {
                                    "empName": "Huỳnh Thị Như Hồng",
                                    "depName": "Phòng Dịch vụ chăm sóc khách hàng"
                                },
                                {
                                    "empName": "Đỗ Thị Thúy Hùng",
                                    "depName": "Phòng Giải pháp mạng truyền thông"
                                },
                                {
                                    "empName": "Trương Thanh Hiền",
                                    "depName": "Phòng Dịch vụ chăm sóc khách hàng"
                                },
                                {
                                    "empName": "Nguyễn Đặng Hiếu",
                                    "depName": "Phòng Dịch vụ chăm sóc khách hàng"
                                },
                                {
                                    "empName": "Vũ Phạm Minh Hương",
                                    "depName": "Phòng Nghiên cứu và phát triển"
                                },
                                {
                                    "empName": "Hồ Việt Hoà",
                                    "depName": "Phòng Giải pháp mạng truyền thông"
                                }
                            ]
                        },
                        "text/html": [
                            "<table>",
                            "<tr><th>empName</th><th>empName</th><th>depName</th></tr>",
                            "<tr><td>Phạm Thị Ngọc Hảo</td><td>Phạm Thị Ngọc Hảo</td><td>Phòng Giải pháp mạng truyền thông</td></tr>",
                            "<tr><td>Trịnh Hạnh</td><td>Trịnh Hạnh</td><td>Phòng Dịch vụ chăm sóc khách hàng</td></tr>",
                            "<tr><td>Huỳnh Thị Như Hồng</td><td>Huỳnh Thị Như Hồng</td><td>Phòng Dịch vụ chăm sóc khách hàng</td></tr>",
                            "<tr><td>Đỗ Thị Thúy Hùng</td><td>Đỗ Thị Thúy Hùng</td><td>Phòng Giải pháp mạng truyền thông</td></tr>",
                            "<tr><td>Trương Thanh Hiền</td><td>Trương Thanh Hiền</td><td>Phòng Dịch vụ chăm sóc khách hàng</td></tr>",
                            "<tr><td>Nguyễn Đặng Hiếu</td><td>Nguyễn Đặng Hiếu</td><td>Phòng Dịch vụ chăm sóc khách hàng</td></tr>",
                            "<tr><td>Vũ Phạm Minh Hương</td><td>Vũ Phạm Minh Hương</td><td>Phòng Nghiên cứu và phát triển</td></tr>",
                            "<tr><td>Hồ Việt Hoà</td><td>Hồ Việt Hoà</td><td>Phòng Giải pháp mạng truyền thông</td></tr>",
                            "</table>"
                        ]
                    }
                }
            ],
            "execution_count": 30
        },
        {
            "cell_type": "code",
            "source": [
                "--41. Cho biết phòng ban nào không có người phụ thuộc. Thông tin yêu cầu: mã số phòng ban, tên phòng ban\r\n",
                "SELECT dp.depNum, dp.depName\r\n",
                "FROM tblDepartment Dp \r\n",
                "join tblEmployee E on dp.depNum = e.depNum\r\n",
                "-- JOIN tblDependent D ON E.empSSN = D.empSSN\r\n",
                "WHERE E.empSSN NOT IN (\r\n",
                "    SELECT DISTINCT empSSN\r\n",
                "    FROM tblDependent\r\n",
                ");"
            ],
            "metadata": {
                "azdata_cell_guid": "161c1f75-d380-49fc-b0b0-7419335c5164",
                "language": "sql"
            },
            "outputs": [
                {
                    "output_type": "display_data",
                    "data": {
                        "text/html": "(8 rows affected)"
                    },
                    "metadata": {}
                },
                {
                    "output_type": "display_data",
                    "data": {
                        "text/html": "Total execution time: 00:00:00.019"
                    },
                    "metadata": {}
                },
                {
                    "output_type": "execute_result",
                    "metadata": {},
                    "execution_count": 28,
                    "data": {
                        "application/vnd.dataresource+json": {
                            "schema": {
                                "fields": [
                                    {
                                        "name": "depNum"
                                    },
                                    {
                                        "name": "depName"
                                    }
                                ]
                            },
                            "data": [
                                {
                                    "depNum": "3",
                                    "depName": "Phòng Giải pháp mạng truyền thông"
                                },
                                {
                                    "depNum": "4",
                                    "depName": "Phòng Dịch vụ chăm sóc khách hàng"
                                },
                                {
                                    "depNum": "4",
                                    "depName": "Phòng Dịch vụ chăm sóc khách hàng"
                                },
                                {
                                    "depNum": "3",
                                    "depName": "Phòng Giải pháp mạng truyền thông"
                                },
                                {
                                    "depNum": "4",
                                    "depName": "Phòng Dịch vụ chăm sóc khách hàng"
                                },
                                {
                                    "depNum": "4",
                                    "depName": "Phòng Dịch vụ chăm sóc khách hàng"
                                },
                                {
                                    "depNum": "5",
                                    "depName": "Phòng Nghiên cứu và phát triển"
                                },
                                {
                                    "depNum": "3",
                                    "depName": "Phòng Giải pháp mạng truyền thông"
                                }
                            ]
                        },
                        "text/html": [
                            "<table>",
                            "<tr><th>depNum</th><th>depName</th></tr>",
                            "<tr><td>3</td><td>Phòng Giải pháp mạng truyền thông</td></tr>",
                            "<tr><td>4</td><td>Phòng Dịch vụ chăm sóc khách hàng</td></tr>",
                            "<tr><td>4</td><td>Phòng Dịch vụ chăm sóc khách hàng</td></tr>",
                            "<tr><td>3</td><td>Phòng Giải pháp mạng truyền thông</td></tr>",
                            "<tr><td>4</td><td>Phòng Dịch vụ chăm sóc khách hàng</td></tr>",
                            "<tr><td>4</td><td>Phòng Dịch vụ chăm sóc khách hàng</td></tr>",
                            "<tr><td>5</td><td>Phòng Nghiên cứu và phát triển</td></tr>",
                            "<tr><td>3</td><td>Phòng Giải pháp mạng truyền thông</td></tr>",
                            "</table>"
                        ]
                    }
                }
            ],
            "execution_count": 28
        },
        {
            "cell_type": "code",
            "source": [
                "--42. Cho biết những nhân viên nào chưa hề tham gia vào bất kỳ dự án nào. Thông tin yêu cầu: mã số, tên nhân viên, tên phòng ban của nhân viên\r\n",
                "select E.empSSN, E.empName, D.depName\r\n",
                "from tblEmployee E \r\n",
                "join tblDepartment D on E.depNum = D.depNum \r\n",
                "-- join tblWorksOn W on E.empSSN = W.empSSN\r\n",
                "WHERE e.empSSN not in (\r\n",
                "    select distinct empSSN\r\n",
                "    from tblWorksOn\r\n",
                ");"
            ],
            "metadata": {
                "azdata_cell_guid": "dcda6c6b-631b-40ce-8b35-0a4bcd7c07a3",
                "language": "sql"
            },
            "outputs": [
                {
                    "output_type": "display_data",
                    "data": {
                        "text/html": "(6 rows affected)"
                    },
                    "metadata": {}
                },
                {
                    "output_type": "display_data",
                    "data": {
                        "text/html": "Total execution time: 00:00:00.011"
                    },
                    "metadata": {}
                },
                {
                    "output_type": "execute_result",
                    "metadata": {},
                    "execution_count": 27,
                    "data": {
                        "application/vnd.dataresource+json": {
                            "schema": {
                                "fields": [
                                    {
                                        "name": "empSSN"
                                    },
                                    {
                                        "name": "empName"
                                    },
                                    {
                                        "name": "depName"
                                    }
                                ]
                            },
                            "data": [
                                {
                                    "empSSN": "30121050004",
                                    "empName": "Mai Duy An",
                                    "depName": "Phòng Phần mềm trong nước"
                                },
                                {
                                    "empSSN": "30121050015",
                                    "empName": "Huỳnh Mai Anh",
                                    "depName": "Phòng Phần mềm trong nước"
                                },
                                {
                                    "empSSN": "30121050180",
                                    "empName": "Trần Ngọc Như Hằng",
                                    "depName": "Phòng Nghiên cứu và phát triển"
                                },
                                {
                                    "empSSN": "30121050184",
                                    "empName": "Nguyễn Thị Minh Hưng",
                                    "depName": "Phòng Nghiên cứu và phát triển"
                                },
                                {
                                    "empSSN": "30121050341",
                                    "empName": "Nguyễn Đặng Hiếu",
                                    "depName": "Phòng Dịch vụ chăm sóc khách hàng"
                                },
                                {
                                    "empSSN": "30121050418",
                                    "empName": "Vũ Phạm Minh Hương",
                                    "depName": "Phòng Nghiên cứu và phát triển"
                                }
                            ]
                        },
                        "text/html": [
                            "<table>",
                            "<tr><th>empSSN</th><th>empName</th><th>depName</th></tr>",
                            "<tr><td>30121050004</td><td>Mai Duy An</td><td>Phòng Phần mềm trong nước</td></tr>",
                            "<tr><td>30121050015</td><td>Huỳnh Mai Anh</td><td>Phòng Phần mềm trong nước</td></tr>",
                            "<tr><td>30121050180</td><td>Trần Ngọc Như Hằng</td><td>Phòng Nghiên cứu và phát triển</td></tr>",
                            "<tr><td>30121050184</td><td>Nguyễn Thị Minh Hưng</td><td>Phòng Nghiên cứu và phát triển</td></tr>",
                            "<tr><td>30121050341</td><td>Nguyễn Đặng Hiếu</td><td>Phòng Dịch vụ chăm sóc khách hàng</td></tr>",
                            "<tr><td>30121050418</td><td>Vũ Phạm Minh Hương</td><td>Phòng Nghiên cứu và phát triển</td></tr>",
                            "</table>"
                        ]
                    }
                }
            ],
            "execution_count": 27
        },
        {
            "cell_type": "code",
            "source": [
                "--43.  Cho biết phòng ban không có nhân viên nào tham gia (bất kỳ) dự án. Thông tin yêu cầu: mã số phòng ban, tên phòng ba\r\n",
                "select d.depNum, d.depName\r\n",
                "from tblDepartment D \r\n",
                "join tblEmployee E on d.depNum = E.depNum\r\n",
                "where e.empSSN not in (\r\n",
                "    select distinct empSSN\r\n",
                "    from tblWorksOn\r\n",
                ")\r\n",
                "group by d.depNum, d.depName\r\n",
                ""
            ],
            "metadata": {
                "azdata_cell_guid": "9b5a9d73-b60a-4a6e-88c6-833e84fdabd9",
                "language": "sql"
            },
            "outputs": [
                {
                    "output_type": "display_data",
                    "data": {
                        "text/html": "(3 rows affected)"
                    },
                    "metadata": {}
                },
                {
                    "output_type": "display_data",
                    "data": {
                        "text/html": "Total execution time: 00:00:00.011"
                    },
                    "metadata": {}
                },
                {
                    "output_type": "execute_result",
                    "metadata": {},
                    "execution_count": 37,
                    "data": {
                        "application/vnd.dataresource+json": {
                            "schema": {
                                "fields": [
                                    {
                                        "name": "depNum"
                                    },
                                    {
                                        "name": "depName"
                                    }
                                ]
                            },
                            "data": [
                                {
                                    "depNum": "1",
                                    "depName": "Phòng Phần mềm trong nước"
                                },
                                {
                                    "depNum": "4",
                                    "depName": "Phòng Dịch vụ chăm sóc khách hàng"
                                },
                                {
                                    "depNum": "5",
                                    "depName": "Phòng Nghiên cứu và phát triển"
                                }
                            ]
                        },
                        "text/html": [
                            "<table>",
                            "<tr><th>depNum</th><th>depName</th></tr>",
                            "<tr><td>1</td><td>Phòng Phần mềm trong nước</td></tr>",
                            "<tr><td>4</td><td>Phòng Dịch vụ chăm sóc khách hàng</td></tr>",
                            "<tr><td>5</td><td>Phòng Nghiên cứu và phát triển</td></tr>",
                            "</table>"
                        ]
                    }
                }
            ],
            "execution_count": 37
        },
        {
            "cell_type": "code",
            "source": [
                "--44. Cho biết phòng ban không có nhân viên nào tham gia vào dự án có tên là ProjectA. Thông tin yêu cầu: mã số phòng ban, tên phòng banselect d.depNum, d.depName\r\n",
                "select d.depNum, d.depName\r\n",
                "from tblDepartment D \r\n",
                "join tblEmployee E on d.depNum = E.depNum\r\n",
                "where e.empSSN not in (\r\n",
                "    select distinct empSSN\r\n",
                "    from tblWorksOn W\r\n",
                "    join tblProject P on W.proNum = P.proNum\r\n",
                "    where P.proName = 'ProjectA' \r\n",
                ")\r\n",
                "group by d.depNum, d.depName\r\n",
                ""
            ],
            "metadata": {
                "azdata_cell_guid": "7a562095-1afc-4049-bf8f-e3744b3a43ca",
                "language": "sql",
                "tags": []
            },
            "outputs": [
                {
                    "output_type": "display_data",
                    "data": {
                        "text/html": "(4 rows affected)"
                    },
                    "metadata": {}
                },
                {
                    "output_type": "display_data",
                    "data": {
                        "text/html": "Total execution time: 00:00:00.026"
                    },
                    "metadata": {}
                },
                {
                    "output_type": "execute_result",
                    "metadata": {},
                    "execution_count": 36,
                    "data": {
                        "application/vnd.dataresource+json": {
                            "schema": {
                                "fields": [
                                    {
                                        "name": "depNum"
                                    },
                                    {
                                        "name": "depName"
                                    }
                                ]
                            },
                            "data": [
                                {
                                    "depNum": "1",
                                    "depName": "Phòng Phần mềm trong nước"
                                },
                                {
                                    "depNum": "2",
                                    "depName": "Phòng Phần mềm nước ngoài"
                                },
                                {
                                    "depNum": "4",
                                    "depName": "Phòng Dịch vụ chăm sóc khách hàng"
                                },
                                {
                                    "depNum": "5",
                                    "depName": "Phòng Nghiên cứu và phát triển"
                                }
                            ]
                        },
                        "text/html": [
                            "<table>",
                            "<tr><th>depNum</th><th>depName</th></tr>",
                            "<tr><td>1</td><td>Phòng Phần mềm trong nước</td></tr>",
                            "<tr><td>2</td><td>Phòng Phần mềm nước ngoài</td></tr>",
                            "<tr><td>4</td><td>Phòng Dịch vụ chăm sóc khách hàng</td></tr>",
                            "<tr><td>5</td><td>Phòng Nghiên cứu và phát triển</td></tr>",
                            "</table>"
                        ]
                    }
                }
            ],
            "execution_count": 36
        },
        {
            "cell_type": "code",
            "source": [
                "--45. Cho biết số lượng dự án được quản lý theo mỗi phòng ban. Thông tin yêu cầu: mã phòng ban, tên phòng ban, số lượng dự án\r\n",
                "SELECT D.depNum, D.depName, COUNT(P.proNum) AS project_count\r\n",
                "FROM tblDepartment D\r\n",
                "LEFT JOIN tblProject P ON D.depNum = P.depNum\r\n",
                "GROUP BY D.depNum, D.depName;"
            ],
            "metadata": {
                "azdata_cell_guid": "0cd2b0a1-8a9d-474e-9a09-aef39b2ff170",
                "language": "sql"
            },
            "outputs": [
                {
                    "output_type": "display_data",
                    "data": {
                        "text/html": "Warning: Null value is eliminated by an aggregate or other SET operation."
                    },
                    "metadata": {}
                },
                {
                    "output_type": "display_data",
                    "data": {
                        "text/html": "(5 rows affected)"
                    },
                    "metadata": {}
                },
                {
                    "output_type": "display_data",
                    "data": {
                        "text/html": "Total execution time: 00:00:00.011"
                    },
                    "metadata": {}
                },
                {
                    "output_type": "execute_result",
                    "metadata": {},
                    "execution_count": 40,
                    "data": {
                        "application/vnd.dataresource+json": {
                            "schema": {
                                "fields": [
                                    {
                                        "name": "depNum"
                                    },
                                    {
                                        "name": "depName"
                                    },
                                    {
                                        "name": "project_count"
                                    }
                                ]
                            },
                            "data": [
                                {
                                    "depNum": "1",
                                    "depName": "Phòng Phần mềm trong nước",
                                    "project_count": "1"
                                },
                                {
                                    "depNum": "2",
                                    "depName": "Phòng Phần mềm nước ngoài",
                                    "project_count": "2"
                                },
                                {
                                    "depNum": "3",
                                    "depName": "Phòng Giải pháp mạng truyền thông",
                                    "project_count": "1"
                                },
                                {
                                    "depNum": "4",
                                    "depName": "Phòng Dịch vụ chăm sóc khách hàng",
                                    "project_count": "1"
                                },
                                {
                                    "depNum": "5",
                                    "depName": "Phòng Nghiên cứu và phát triển",
                                    "project_count": "0"
                                }
                            ]
                        },
                        "text/html": [
                            "<table>",
                            "<tr><th>depNum</th><th>depName</th><th>project_count</th></tr>",
                            "<tr><td>1</td><td>Phòng Phần mềm trong nước</td><td>1</td></tr>",
                            "<tr><td>2</td><td>Phòng Phần mềm nước ngoài</td><td>2</td></tr>",
                            "<tr><td>3</td><td>Phòng Giải pháp mạng truyền thông</td><td>1</td></tr>",
                            "<tr><td>4</td><td>Phòng Dịch vụ chăm sóc khách hàng</td><td>1</td></tr>",
                            "<tr><td>5</td><td>Phòng Nghiên cứu và phát triển</td><td>0</td></tr>",
                            "</table>"
                        ]
                    }
                }
            ],
            "execution_count": 40
        },
        {
            "cell_type": "code",
            "source": [
                "--46.Cho biết phòng ban nào quản lý it dự án nhất. Thông tin yêu cầu: mã phòng ban, tên phòng ban, số lượng dự án\r\n",
                "SELECT TOP(1) D.depNum, D.depName, COUNT(P.proNum) AS project_count\r\n",
                "FROM tblDepartment D\r\n",
                "LEFT JOIN tblProject P ON D.depNum = P.depNum\r\n",
                "GROUP BY D.depNum, D.depName\r\n",
                "ORDER BY project_count ASC"
            ],
            "metadata": {
                "azdata_cell_guid": "f02ba580-318c-41ca-aaab-c9330ddb3f89",
                "language": "sql"
            },
            "outputs": [
                {
                    "output_type": "display_data",
                    "data": {
                        "text/html": "Warning: Null value is eliminated by an aggregate or other SET operation."
                    },
                    "metadata": {}
                },
                {
                    "output_type": "display_data",
                    "data": {
                        "text/html": "(1 row affected)"
                    },
                    "metadata": {}
                },
                {
                    "output_type": "display_data",
                    "data": {
                        "text/html": "Total execution time: 00:00:00.015"
                    },
                    "metadata": {}
                },
                {
                    "output_type": "execute_result",
                    "metadata": {},
                    "execution_count": 43,
                    "data": {
                        "application/vnd.dataresource+json": {
                            "schema": {
                                "fields": [
                                    {
                                        "name": "depNum"
                                    },
                                    {
                                        "name": "depName"
                                    },
                                    {
                                        "name": "project_count"
                                    }
                                ]
                            },
                            "data": [
                                {
                                    "depNum": "5",
                                    "depName": "Phòng Nghiên cứu và phát triển",
                                    "project_count": "0"
                                }
                            ]
                        },
                        "text/html": [
                            "<table>",
                            "<tr><th>depNum</th><th>depName</th><th>project_count</th></tr>",
                            "<tr><td>5</td><td>Phòng Nghiên cứu và phát triển</td><td>0</td></tr>",
                            "</table>"
                        ]
                    }
                }
            ],
            "execution_count": 43
        },
        {
            "cell_type": "code",
            "source": [
                "--47 Cho biết phòng ban nào quản lý nhiều dự án nhất. Thông tin yêu cầu: mã phòng ban, tên phòng ban, số lượng dự án\r\n",
                "SELECT TOP(1) D.depNum, D.depName, COUNT(P.proNum) AS project_count\r\n",
                "FROM tblDepartment D\r\n",
                "LEFT JOIN tblProject P ON D.depNum = P.depNum\r\n",
                "GROUP BY D.depNum, D.depName\r\n",
                "ORDER BY project_count DESC"
            ],
            "metadata": {
                "azdata_cell_guid": "07dd77b3-36ee-4f37-9ca5-e29656f2e98e",
                "language": "sql",
                "tags": []
            },
            "outputs": [
                {
                    "output_type": "display_data",
                    "data": {
                        "text/html": "Warning: Null value is eliminated by an aggregate or other SET operation."
                    },
                    "metadata": {}
                },
                {
                    "output_type": "display_data",
                    "data": {
                        "text/html": "(1 row affected)"
                    },
                    "metadata": {}
                },
                {
                    "output_type": "display_data",
                    "data": {
                        "text/html": "Total execution time: 00:00:00.018"
                    },
                    "metadata": {}
                },
                {
                    "output_type": "execute_result",
                    "metadata": {},
                    "execution_count": 44,
                    "data": {
                        "application/vnd.dataresource+json": {
                            "schema": {
                                "fields": [
                                    {
                                        "name": "depNum"
                                    },
                                    {
                                        "name": "depName"
                                    },
                                    {
                                        "name": "project_count"
                                    }
                                ]
                            },
                            "data": [
                                {
                                    "depNum": "2",
                                    "depName": "Phòng Phần mềm nước ngoài",
                                    "project_count": "2"
                                }
                            ]
                        },
                        "text/html": [
                            "<table>",
                            "<tr><th>depNum</th><th>depName</th><th>project_count</th></tr>",
                            "<tr><td>2</td><td>Phòng Phần mềm nước ngoài</td><td>2</td></tr>",
                            "</table>"
                        ]
                    }
                }
            ],
            "execution_count": 44
        },
        {
            "cell_type": "code",
            "source": [
                "--48 Cho biết những phòng ban nào có nhiều hơn 5 nhân viên đang quản lý dự án gì. Thông tin yêu cầu: mã phòng ban, tên phòng ban, số lượng nhân viên của phòng ban, tên dự án quản lý\r\n",
                "SELECT D.depNum, D.depName, COUNT(E.empSSN) AS employee_count, P.proName \r\n",
                "FROM tblDepartment D\r\n",
                "JOIN tblEmployee E ON D.depNum = E.depNum\r\n",
                "JOIN tblProject P ON D.depNum = P.depNum\r\n",
                "GROUP BY D.depNum, D.depName, P.proName\r\n",
                "HAVING COUNT(DISTINCT E.empSSN) > 5;\r\n",
                ""
            ],
            "metadata": {
                "azdata_cell_guid": "f1bd55a2-4188-401c-9072-904ff46bdf60",
                "language": "sql"
            },
            "outputs": [
                {
                    "output_type": "display_data",
                    "data": {
                        "text/html": "(0 rows affected)"
                    },
                    "metadata": {}
                },
                {
                    "output_type": "display_data",
                    "data": {
                        "text/html": "Total execution time: 00:00:00.014"
                    },
                    "metadata": {}
                },
                {
                    "output_type": "execute_result",
                    "metadata": {},
                    "execution_count": 49,
                    "data": {
                        "application/vnd.dataresource+json": {
                            "schema": {
                                "fields": [
                                    {
                                        "name": "depNum"
                                    },
                                    {
                                        "name": "depName"
                                    },
                                    {
                                        "name": "employee_count"
                                    },
                                    {
                                        "name": "proName"
                                    }
                                ]
                            },
                            "data": []
                        },
                        "text/html": [
                            "<table>",
                            "<tr><th>depNum</th><th>depName</th><th>employee_count</th><th>proName</th></tr>",
                            "</table>"
                        ]
                    }
                }
            ],
            "execution_count": 49
        },
        {
            "cell_type": "code",
            "source": [
                "--49.Cho biết những nhân viên thuộc phòng có tên là Phòng nghiên cứu, và không có người phụ thuộc. Thông tin yêu cầu: mã nhân viên,họ tên nhân viên\r\n",
                "select e.empSSN, e.empName\r\n",
                "from tblEmployee E\r\n",
                "join tblDepartment D on e.depNum = d.depNum\r\n",
                "WHERE e.empSSN not in (\r\n",
                "    select distinct empSSN\r\n",
                "    from tblDependent\r\n",
                ") and d.depName = N'Phòng Nghiên cứu và phát triển'"
            ],
            "metadata": {
                "azdata_cell_guid": "6971c6d7-d186-470d-9c41-49466273df09",
                "language": "sql"
            },
            "outputs": [
                {
                    "output_type": "display_data",
                    "data": {
                        "text/html": "(1 row affected)"
                    },
                    "metadata": {}
                },
                {
                    "output_type": "display_data",
                    "data": {
                        "text/html": "Total execution time: 00:00:00.022"
                    },
                    "metadata": {}
                },
                {
                    "output_type": "execute_result",
                    "metadata": {},
                    "execution_count": 50,
                    "data": {
                        "application/vnd.dataresource+json": {
                            "schema": {
                                "fields": [
                                    {
                                        "name": "empSSN"
                                    },
                                    {
                                        "name": "empName"
                                    }
                                ]
                            },
                            "data": [
                                {
                                    "empSSN": "30121050418",
                                    "empName": "Vũ Phạm Minh Hương"
                                }
                            ]
                        },
                        "text/html": [
                            "<table>",
                            "<tr><th>empSSN</th><th>empName</th></tr>",
                            "<tr><td>30121050418</td><td>Vũ Phạm Minh Hương</td></tr>",
                            "</table>"
                        ]
                    }
                }
            ],
            "execution_count": 50
        },
        {
            "cell_type": "code",
            "source": [
                "--50.Cho biết tổng số giờ làm của các nhân viên, mà các nhân viên này không có người phụ thuộc. Thông tin yêu cầu: mã nhân viên,họ tên nhân viên, tổng số giờ làm\r\n",
                "select e.empSSN, e.empName, SUM(w.workHours) as total_hours\r\n",
                "from tblEmployee E\r\n",
                "join tblWorksOn W on E.empSSN = w.empSSN\r\n",
                "WHERE e.empSSN not in (\r\n",
                "    select distinct empSSN\r\n",
                "    from tblDependent\r\n",
                ") \r\n",
                "GROUP BY e.empSSN, e.empName;\r\n",
                ""
            ],
            "metadata": {
                "azdata_cell_guid": "e245051d-7c86-4103-8858-17243b2817fb",
                "language": "sql",
                "tags": []
            },
            "outputs": [
                {
                    "output_type": "display_data",
                    "data": {
                        "text/html": "(6 rows affected)"
                    },
                    "metadata": {}
                },
                {
                    "output_type": "display_data",
                    "data": {
                        "text/html": "Total execution time: 00:00:00.012"
                    },
                    "metadata": {}
                },
                {
                    "output_type": "execute_result",
                    "metadata": {},
                    "execution_count": 52,
                    "data": {
                        "application/vnd.dataresource+json": {
                            "schema": {
                                "fields": [
                                    {
                                        "name": "empSSN"
                                    },
                                    {
                                        "name": "empName"
                                    },
                                    {
                                        "name": "total_hours"
                                    }
                                ]
                            },
                            "data": [
                                {
                                    "empSSN": "30121050265",
                                    "empName": "Phạm Thị Ngọc Hảo",
                                    "total_hours": "40"
                                },
                                {
                                    "empSSN": "30121050294",
                                    "empName": "Trịnh Hạnh",
                                    "total_hours": "20"
                                },
                                {
                                    "empSSN": "30121050295",
                                    "empName": "Huỳnh Thị Như Hồng",
                                    "total_hours": "15"
                                },
                                {
                                    "empSSN": "30121050322",
                                    "empName": "Đỗ Thị Thúy Hùng",
                                    "total_hours": "30"
                                },
                                {
                                    "empSSN": "30121050336",
                                    "empName": "Trương Thanh Hiền",
                                    "total_hours": "15"
                                },
                                {
                                    "empSSN": "30121050982",
                                    "empName": "Hồ Việt Hoà",
                                    "total_hours": "43"
                                }
                            ]
                        },
                        "text/html": [
                            "<table>",
                            "<tr><th>empSSN</th><th>empName</th><th>total_hours</th></tr>",
                            "<tr><td>30121050265</td><td>Phạm Thị Ngọc Hảo</td><td>40</td></tr>",
                            "<tr><td>30121050294</td><td>Trịnh Hạnh</td><td>20</td></tr>",
                            "<tr><td>30121050295</td><td>Huỳnh Thị Như Hồng</td><td>15</td></tr>",
                            "<tr><td>30121050322</td><td>Đỗ Thị Thúy Hùng</td><td>30</td></tr>",
                            "<tr><td>30121050336</td><td>Trương Thanh Hiền</td><td>15</td></tr>",
                            "<tr><td>30121050982</td><td>Hồ Việt Hoà</td><td>43</td></tr>",
                            "</table>"
                        ]
                    }
                }
            ],
            "execution_count": 52
        },
        {
            "cell_type": "code",
            "source": [
                "--51.Cho biết tổng số giờ làm của các nhân viên, mà các nhân viên này có nhiều hơn 3 người phụ thuộc. Thông tin yêu cầu: mã nhân viên,họ tên nhân viên, số lượng người phụ thuộc, tổng số giờ làm\r\n",
                "select e.empSSN, e.empName, count(D.depName) as count_dependents ,SUM(w.workHours) as total_hours\r\n",
                "from tblEmployee E\r\n",
                "LEFT join tblWorksOn W on E.empSSN = w.empSSN\r\n",
                "left join tblDependent D on D.empSSN = E.empSSN\r\n",
                "GROUP BY e.empSSN, e.empName\r\n",
                "having count(d.depName)>3;"
            ],
            "metadata": {
                "azdata_cell_guid": "f63c67ea-c4cc-4ad3-b2af-357564c2e056",
                "language": "sql"
            },
            "outputs": [
                {
                    "output_type": "display_data",
                    "data": {
                        "text/html": "Warning: Null value is eliminated by an aggregate or other SET operation."
                    },
                    "metadata": {}
                },
                {
                    "output_type": "display_data",
                    "data": {
                        "text/html": "(1 row affected)"
                    },
                    "metadata": {}
                },
                {
                    "output_type": "display_data",
                    "data": {
                        "text/html": "Total execution time: 00:00:00.025"
                    },
                    "metadata": {}
                },
                {
                    "output_type": "execute_result",
                    "metadata": {},
                    "execution_count": 79,
                    "data": {
                        "application/vnd.dataresource+json": {
                            "schema": {
                                "fields": [
                                    {
                                        "name": "empSSN"
                                    },
                                    {
                                        "name": "empName"
                                    },
                                    {
                                        "name": "count_dependents"
                                    },
                                    {
                                        "name": "total_hours"
                                    }
                                ]
                            },
                            "data": [
                                {
                                    "empSSN": "30121050037",
                                    "empName": "Võ Việt Anh",
                                    "count_dependents": "4",
                                    "total_hours": "40"
                                }
                            ]
                        },
                        "text/html": [
                            "<table>",
                            "<tr><th>empSSN</th><th>empName</th><th>count_dependents</th><th>total_hours</th></tr>",
                            "<tr><td>30121050037</td><td>Võ Việt Anh</td><td>4</td><td>40</td></tr>",
                            "</table>"
                        ]
                    }
                }
            ],
            "execution_count": 79
        },
        {
            "cell_type": "code",
            "source": [
                "--52.Cho biết tổng số giờ làm việc của các nhân viên hiện đang dưới quyền giám sát (bị quản lý bởi) của nhân viên Mai Duy An. Thông tin yêu cầu: mã nhân viên, họ tên nhân viên, tổng số giờ làm\r\n",
                "select e.empSSN, e.empName, ISNULL(SUM(w.workHours),0) as total_hours\r\n",
                "from tblEmployee E\r\n",
                "left join tblWorksOn W on E.empSSN = w.empSSN\r\n",
                "WHERE e.supervisorSSN = (\r\n",
                "    select empSSN \r\n",
                "    from tblEmployee\r\n",
                "    where empName = 'Mai Duy An'\r\n",
                ")\r\n",
                "GROUP BY e.empSSN, e.empName;\r\n",
                ""
            ],
            "metadata": {
                "azdata_cell_guid": "12aaee37-348f-4eab-857f-f274a9fb1b9e",
                "language": "sql"
            },
            "outputs": [
                {
                    "output_type": "display_data",
                    "data": {
                        "text/html": "(2 rows affected)"
                    },
                    "metadata": {}
                },
                {
                    "output_type": "display_data",
                    "data": {
                        "text/html": "Total execution time: 00:00:00.022"
                    },
                    "metadata": {}
                },
                {
                    "output_type": "execute_result",
                    "metadata": {},
                    "execution_count": 85,
                    "data": {
                        "application/vnd.dataresource+json": {
                            "schema": {
                                "fields": [
                                    {
                                        "name": "empSSN"
                                    },
                                    {
                                        "name": "empName"
                                    },
                                    {
                                        "name": "total_hours"
                                    }
                                ]
                            },
                            "data": [
                                {
                                    "empSSN": "30121050015",
                                    "empName": "Huỳnh Mai Anh",
                                    "total_hours": "0"
                                },
                                {
                                    "empSSN": "30121050027",
                                    "empName": "Nguyễn Thúy Quỳnh Anh",
                                    "total_hours": "30"
                                }
                            ]
                        },
                        "text/html": [
                            "<table>",
                            "<tr><th>empSSN</th><th>empName</th><th>total_hours</th></tr>",
                            "<tr><td>30121050015</td><td>Huỳnh Mai Anh</td><td>0</td></tr>",
                            "<tr><td>30121050027</td><td>Nguyễn Thúy Quỳnh Anh</td><td>30</td></tr>",
                            "</table>"
                        ]
                    }
                }
            ],
            "execution_count": 85
        }
    ]
}